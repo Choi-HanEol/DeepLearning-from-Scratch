{
 "cells": [
  {
   "cell_type": "markdown",
   "id": "cc2e2338",
   "metadata": {},
   "source": [
    "# 퍼셉트론 구현하기\n",
    "![퍼셉트론](data:image/png;base64,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)"
   ]
  },
  {
   "cell_type": "markdown",
   "id": "5f411d00",
   "metadata": {},
   "source": [
    "### AND 게이트 "
   ]
  },
  {
   "cell_type": "code",
   "execution_count": 5,
   "id": "df47883e",
   "metadata": {},
   "outputs": [],
   "source": [
    "def AND(x1, x2):\n",
    "    w1, w2, theta = 0.5, 0.5, 0.7\n",
    "    tmp = x1*w1 + x2*w2\n",
    "    if tmp <= theta:\n",
    "        return 0\n",
    "    elif tmp > theta:\n",
    "        return 1"
   ]
  },
  {
   "cell_type": "code",
   "execution_count": 6,
   "id": "fed8f671",
   "metadata": {},
   "outputs": [
    {
     "name": "stdout",
     "output_type": "stream",
     "text": [
      "0\n",
      "0\n",
      "0\n",
      "1\n"
     ]
    }
   ],
   "source": [
    "print(AND(0,0))\n",
    "print(AND(1,0))\n",
    "print(AND(0,1))\n",
    "print(AND(1,1))"
   ]
  },
  {
   "cell_type": "markdown",
   "id": "b7fbb350",
   "metadata": {},
   "source": [
    "### 가중치와 편향 도입\n",
    "![[식 2.2]](https://t1.daumcdn.net/cfile/tistory/99B057465A65F39704 \"[식 2.2]\")"
   ]
  },
  {
   "cell_type": "code",
   "execution_count": 7,
   "id": "1b8ce9a4",
   "metadata": {},
   "outputs": [
    {
     "data": {
      "text/plain": [
       "-0.19999999999999996"
      ]
     },
     "execution_count": 7,
     "metadata": {},
     "output_type": "execute_result"
    }
   ],
   "source": [
    "import numpy as np\n",
    "x = np.array([0, 1])\n",
    "w = np.array([0.5, 0.5])\n",
    "b = -0.7\n",
    "\n",
    "np.sum(w*x) + b"
   ]
  },
  {
   "cell_type": "markdown",
   "id": "df328cce",
   "metadata": {},
   "source": [
    "### 가중치와 편향 구현\n",
    "\n",
    "w1, w2(가중치)는 각 입력 신호가 결과에 주는 영향력(중요도)을 조절하는 매개변수<br>\n",
    "b(편향)는 뉴런이 얼마나 쉽게 활성화(결과로 1을 출력)하느냐를 조정하는 매개변수\n",
    "\n",
    "ex) \n",
    "<br>b = -0.1 이면 np.sum(w\\*x)가 0.1보다만 크면 뉴런이 활성화<br>\n",
    "b = -20.0 이면 np.sum(w\\*x)가 20.0을 넘어야 뉴런이 활성화"
   ]
  },
  {
   "cell_type": "code",
   "execution_count": 8,
   "id": "af706f1d",
   "metadata": {},
   "outputs": [],
   "source": [
    "def AND(x1, x2):\n",
    "    x = np.array([x1, x2])\n",
    "    w = np.array([0.5, 0.5])\n",
    "    b = -0.7\n",
    "    tmp = np.sum(w*x) + b\n",
    "    if tmp <= 0:\n",
    "        return 0\n",
    "    else:\n",
    "        return 1"
   ]
  },
  {
   "cell_type": "code",
   "execution_count": 9,
   "id": "b500d9e3",
   "metadata": {},
   "outputs": [
    {
     "name": "stdout",
     "output_type": "stream",
     "text": [
      "0\n",
      "0\n",
      "0\n",
      "1\n"
     ]
    }
   ],
   "source": [
    "print(AND(0,0))\n",
    "print(AND(1,0))\n",
    "print(AND(0,1))\n",
    "print(AND(1,1))"
   ]
  },
  {
   "cell_type": "code",
   "execution_count": 10,
   "id": "485e5bef",
   "metadata": {},
   "outputs": [],
   "source": [
    "def NAND(x1, x2):\n",
    "    x = np.array([x1, x2])\n",
    "    w = np.array([-0.5, -0.5])\n",
    "    b = 0.7\n",
    "    tmp = np.sum(w*x) + b\n",
    "    if tmp <= 0:\n",
    "        return 0\n",
    "    else:\n",
    "        return 1\n",
    "    \n",
    "def OR(x1, x2):\n",
    "    x = np.array([x1, x2])\n",
    "    w = np.array([0.5, 0.5])\n",
    "    b = -0.2\n",
    "    tmp = np.sum(w*x) + b\n",
    "    if tmp <= 0:\n",
    "        return 0\n",
    "    else:\n",
    "        return 1"
   ]
  },
  {
   "cell_type": "code",
   "execution_count": 11,
   "id": "4a9b7bb4",
   "metadata": {},
   "outputs": [
    {
     "name": "stdout",
     "output_type": "stream",
     "text": [
      "1\n",
      "1\n",
      "1\n",
      "0\n"
     ]
    }
   ],
   "source": [
    "print(NAND(0,0))\n",
    "print(NAND(1,0))\n",
    "print(NAND(0,1))\n",
    "print(NAND(1,1))"
   ]
  },
  {
   "cell_type": "code",
   "execution_count": 12,
   "id": "baca330c",
   "metadata": {},
   "outputs": [
    {
     "name": "stdout",
     "output_type": "stream",
     "text": [
      "0\n",
      "1\n",
      "1\n",
      "1\n"
     ]
    }
   ],
   "source": [
    "print(OR(0,0))\n",
    "print(OR(1,0))\n",
    "print(OR(0,1))\n",
    "print(OR(1,1))"
   ]
  },
  {
   "cell_type": "markdown",
   "id": "96919a01",
   "metadata": {},
   "source": [
    "## 퍼셉트론의 한계\n",
    "퍼셉트론은 직선 하나로 나눈 영역만 표현할 수 있다는 한계가 있음\n"
   ]
  },
  {
   "cell_type": "markdown",
   "id": "ab6d9a47",
   "metadata": {},
   "source": [
    "<img src=\"https://img1.daumcdn.net/thumb/R1280x0/?scode=mtistory2&fname=https%3A%2F%2Ft1.daumcdn.net%2Fcfile%2Ftistory%2F99F0D9455A66073E31\"  width=\"400px\" height=\"400px\"></img>\n",
    "위 그림(XOR 게이트)에서 하나의 직선으로 세모(출력이 1)와 동그라미(출력이 0)를 나눌 수 있을까?<BR>\n",
    "불가능하다.</br>\n",
    "우리는 곡선으로 나눌 수 있다.<br>\n",
    "<img src=\"https://t1.daumcdn.net/cfile/tistory/998041435A66070228\"  width=\"400px\" height=\"400px\"></img><br>\n",
    "우리는 곡선의 영역을 **비선형** 영역<br>\n",
    "직선 영역을 **선형** 영역이라고 한다.<br><br>\n",
    "퍼셉트론으로는 XOR 게이트를 표현할 수 없다. 퍼셉트론으로 층을 쌓는 **다층 퍼셉트론**으로 XOR 게이트를 표현해보자"
   ]
  },
  {
   "cell_type": "markdown",
   "id": "00a5f964",
   "metadata": {},
   "source": [
    "<img src=\"https://velog.velcdn.com/images%2Fcitizenyves%2Fpost%2F698e42f0-66da-4d87-aa5f-f292fb7ac5c4%2Fimage.png\"  width=\"400px\" height=\"400px\"></img><br>\n",
    "XOR 게이트는 위 사진과 같이 AND, NAND, OR 게이트를 조합해 구현할 수 있다."
   ]
  },
  {
   "cell_type": "markdown",
   "id": "e474c9bb",
   "metadata": {},
   "source": [
    "### XOR 게이트 구현하기"
   ]
  },
  {
   "cell_type": "code",
   "execution_count": 13,
   "id": "5f47a06c",
   "metadata": {},
   "outputs": [],
   "source": [
    "def XOR(x1, x2):\n",
    "    s1 = NAND(x1, x2)\n",
    "    s2 = OR(x1, x2)\n",
    "    y = AND(s1, s2)\n",
    "    return y"
   ]
  },
  {
   "cell_type": "code",
   "execution_count": 14,
   "id": "f3e9bf4e",
   "metadata": {},
   "outputs": [
    {
     "name": "stdout",
     "output_type": "stream",
     "text": [
      "0\n",
      "1\n",
      "1\n",
      "0\n"
     ]
    }
   ],
   "source": [
    "print(XOR(0, 0))\n",
    "print(XOR(1, 0))\n",
    "print(XOR(0, 1))\n",
    "print(XOR(1, 1))"
   ]
  },
  {
   "cell_type": "markdown",
   "id": "238cbbc2",
   "metadata": {},
   "source": [
    "위에서 구현한 XOR을 퍼셉트론으로 나타내면 다음과 같다.<br>\n",
    "<img src=\"https://images.velog.io/images/citizenyves/post/041d474a-9cd7-48e8-86d4-8f04cb5726b2/%E1%84%89%E1%85%B3%E1%84%8F%E1%85%B3%E1%84%85%E1%85%B5%E1%86%AB%E1%84%89%E1%85%A3%E1%86%BA%202021-11-16%20%E1%84%8B%E1%85%A9%E1%84%92%E1%85%AE%2012.59.42.png\"  width=\"400px\" height=\"400px\"></img><br>\n",
    "위 사진과 같이 층이 여러 개인 퍼셉트론을 다층 퍼셉트론이라 한다.<br>\n",
    "퍼셉트론은 층을 쌓아 더 다양한 것을 표현할 수 있다."
   ]
  },
  {
   "cell_type": "markdown",
   "id": "28aeb63c",
   "metadata": {},
   "source": [
    "# 정리\n",
    "- 퍼셉트론은 입출력을 갖춘 알고리즘이다. 입력을 주면 정해진 규칙에 따른 값을 출력한다.<br>\n",
    "- 퍼셉트론에서는 '가중치'와 '편향'을 매개변수로 설정한다.<br>\n",
    "- 퍼셉트론으로 AND, OR 게이트 등의 논리 회로를 표현할 수 있다.<br>\n",
    "- XOR 게이트는 단층 퍼셉트론으로는 표현할 수 없다.<br>\n",
    "- 2층 퍼셉트론을 이용하면 XOR 게이트를 표현할 수 있다.<br>\n",
    "- 단층 퍼셉트론은 직선형 영역만 표현할 수 있고, 다층 펴셉트론은 비선형 영역도 표현할 수 있다.<br>\n",
    "- 다층 퍼셉트론은 (이론상) 컴퓨터를 표현할 수 있다."
   ]
  }
 ],
 "metadata": {
  "kernelspec": {
   "display_name": "Python 3 (ipykernel)",
   "language": "python",
   "name": "python3"
  },
  "language_info": {
   "codemirror_mode": {
    "name": "ipython",
    "version": 3
   },
   "file_extension": ".py",
   "mimetype": "text/x-python",
   "name": "python",
   "nbconvert_exporter": "python",
   "pygments_lexer": "ipython3",
   "version": "3.9.12"
  }
 },
 "nbformat": 4,
 "nbformat_minor": 5
}
