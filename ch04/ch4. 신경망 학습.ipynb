{
 "cells": [
  {
   "cell_type": "markdown",
   "id": "485acc5a",
   "metadata": {},
   "source": [
    "# 4.1 데이터에서 학습한다!\n",
    " 신경망의 특징은 데이터를 보고 학습할 수 있다는 점이다. -> 가중치 매개변수의 값을 데이터를 보고 자동으로 결정한다는 뜻"
   ]
  },
  {
   "cell_type": "markdown",
   "id": "507a6785",
   "metadata": {},
   "source": [
    "## 4.1.1 데이터 주도 학습\n",
    " &nbsp;기계학습은 데이터에서 답을 찾고 데이터에서 패턴을 발견하고 데이터로 이야기를 만듦 -> 기계학습의 중심에는 데이터가 존재\n",
    " 기계학습은 수집한 데이터로부터 패턴을 찾으려 시도, 게다가 신경망과 딥러닝은 기존 기계학습에서 사용하던 방법보다사람의 개입을 더욱 배제할 수 있게 해주는 중요한 특성을 지님<br><br>\n",
    " &nbsp;이미지에서 **특징(feature)**을 추출하고 그 특징의 패턴을 기계학습 기술로 학습하는 방법이 있다. 여기서 말하는 특징은 입력 데이터(입력 이미지)에서 본질적인 데이터(중요한 데이터)를 정확하게 추출할수 있도록 설계된 변환기를 가리킨다. 이미지의 특징은 보통 벡터로 기술하고, 컴퓨터 비전 분야에서는 SIPT, SURF, HOG 등의 특징을 많이 사용한다. 이런 특징을 사용하여 이미지 데이터를 벡터로 변환하고, 변환된 벡터를 가지고 지도 학습 방식의 대표 분류 기법인 SVM, KNN 등으로 학습할 수 있다.\n",
    " <br> <br>\n",
    " &nbsp;이와 같은 기계학습에서는 모아진 데이터로부터 규칙을 찾아내는 역할을 '기계'가 담당한다. 다만, 이미지를 벡터로 변환할 때 사용하는 특징은 여전히 '사람'이 설계한다. 이 말은 문제에 적합한 특징을 쓰지 않으면(혹은 특징을 설계하지 않으면) 좀처럼 좋은 결과를 얻을 수 없다는 뜻이다. 예를 들어 개의 얼굴을 구분하려 할 때는 숫자를 인식할 때와는 다른 특징을 '사람'이 생각해야 할지도 모른다. 즉, 특징과 기계학습을 활용한 접근에도 문제에 따라서는 '사람'이 적절한 특징을 생각해내야 한다.<br><br>\n",
    " \n",
    " <img src=\"https://img1.daumcdn.net/thumb/R1280x0/?scode=mtistory2&fname=https%3A%2F%2Fblog.kakaocdn.net%2Fdn%2FETLRX%2Fbtq1YkKAuD5%2F5H0wJ3G7TotarX3S1hmJJK%2Fimg.png\"  width=\"400px\" height=\"400px\"></img><br>\n",
    "&nbsp;회색 블록은 사람이 개입하지 않음을 뜻한다.<br>\n",
    "신경망은 이미지를 '있는 그대로' 학습한다. 두 번째 접근 방식(특징과 기계학습 방식)에서는 특징을 사람이 설계했지만, 신경망은 이미지에 포함된 중요한 특징까지도 '기계'가 스스로 학습할 것이다.<br><br>\n",
    "&nbsp;신경망의 이점은 모든 문제를 같은 맥락에서 풀 수 있다는 점이다. 예를 들어 '5'를 인식하는 문제든, '개'를 인식하는 문제든, 아니면 '사람의 얼굴'을 인식하는 문제든, 세부사항과 관계없이 신경망은 주어진 데이터를 온전히 학습하고, 주어진 문제의 패턴을 발견하려 시도한다. 즉, 신경망의 모든 문제를 주어진 데이터 그대로를 입력 데이터로 활용해 'end-to-end'로 학습할 수 있다.\n",
    "<br><br>\n",
    "**NOTE_** 딥러닝을 종단간 기계학습(end-to-end machine learning)이라고도 한다. 종단간은 '처음부터 끝까지'라는 의미로, 데이터(입력)에서 목표한 결과(출력)를 사람의 개입 없이 얻는다는 뜻을 담고 있다."
   ]
  },
  {
   "cell_type": "markdown",
   "id": "e54928d0",
   "metadata": {},
   "source": [
    "## 4.1.2 훈련 데이터와 시험 데이터\n",
    " &nbsp;기계학습에서 문제는 데이터를 **훈련 데이터**와 **시험 데이터**로 나눠 학습과 실험을 수행하는 것이 일반적이다. 우선 훈련 데이터만 사용하여 학습하면서 최적의 매개변수를 찾는다. 그 다음 시험 데이터를 사용하여 앞서 훈련한 모델의 실력을 평가한다. -> 범용 능력을 평가하기 위해서\n",
    "<br><br>\n",
    " &nbsp;범용 능력은 아직 보지 못한 데이터(훈련 데이터에 포함되지 않는 데이터)로도 문제를 올바르게 풀어내는 능력이다. \n",
    " <br><br>\n",
    " &nbsp;**오버피팅(overfitting)**은 훈련 데이터에만 높은 정확률을 보이고, 시험 데이터에서는 오차가 있는 경우를 뜻한다. 이는 일반화가 잘 되지 않았다는 뜻이다. 모델이 복잡하거나 데이터의 수가 적을 때(특정한 특징을 가진 데이터만으로 학습할 때) 발생한다. <br>\n",
    "  이를 해결하기 위해 모델을 단조롭게 하거나(dropout, 가중치 규제(Regularization) 등) 데이터 양을 늘린다."
   ]
  },
  {
   "cell_type": "markdown",
   "id": "6d9f7aaa",
   "metadata": {},
   "source": [
    "# 4.2 손실 함수\n",
    " &nbsp;신경망은 학습이 잘 되었는지 안되었는지 확인하기 위한 지표를 기준으로 최적의 매개변수 값을 탐색한다. 이 지표를 **손실함수(loss funtion)** 라고 한다.<br>\n",
    " &nbsp;손실 함수는 임의의 함수를 사용할 수도 있지만 일반적으로는 평균 제곱 오차와 교차 엔트로피 오차를 사용한다.<br>\n",
    " &nbsp;손실함수를 줄이는게 우리의 목표이다."
   ]
  },
  {
   "cell_type": "markdown",
   "id": "be0880df",
   "metadata": {},
   "source": [
    "## 4.2.1 평균 제곱 오차\n",
    " 가장 많이 쓰이는 손실 함수는 **평균 제곱 오차(mean squared error)**이다.<br>\n",
    " <img src=\"https://img1.daumcdn.net/thumb/R1280x0/?scode=mtistory2&fname=https%3A%2F%2Fblog.kakaocdn.net%2Fdn%2FdCDpqv%2Fbtq102Ja1sN%2FadDK0g6c4q8nutIvh9bnyk%2Fimg.jpg\"  width=\"150px\" height=\"150px\"></img><br>\n",
    " 여기서 y_k는 신경망의 출력(신경망이 추정한 값, 예측값), t_k는 정답 레이블, k는 데이터의 차원 수를 나타낸다. 3.6절에서 했던 손글씨 숫자 인식 예에서 y_k와 t_k는 다음과 같은 원소 10개짜리 데이터이다."
   ]
  },
  {
   "cell_type": "code",
   "execution_count": 1,
   "id": "b7a2d5b0",
   "metadata": {},
   "outputs": [],
   "source": [
    "y_k = [0.1, 0.05, 0.6, 0.0, 0.05, 0.1, 0.0, 0.1, 0.0, 0.0]\n",
    "t_k = [0, 0, 1, 0, 0, 0, 0, 0, 0, 0]"
   ]
  },
  {
   "cell_type": "markdown",
   "id": "92b47df5",
   "metadata": {},
   "source": [
    "&nbsp;이 배열들의 원소는 첫 번째 인덱스부터 순서대로 숫자 '0', '1', '2', ... 일 때의 값이다. 여기서 y_k는 소포트맥스 함수의 출력이다. <br>\n",
    "이 예에서 이미지가 '0'일 확률은 0.1, '1'일 확률은 0.05, '2'일 확률은 0.6이라고 해석된다. 한편 정답 레이블인 t_k는 정답을 가리키는 위치의 원소는 1로, 그 외에는 0으로 표기한다. 여기서는 숫자 '2'에 해당하는 원소의 값이 1이므로 정답이 '2'임을 알 수 있다. 이처럼 한 원소만 1로 하고 그 외는 0으로 나타내는 표기법을 **원-핫 인코딩**이라 한다.\n",
    "<br><br>\n",
    "평균 제곱 오차는 위 식과 같이 각 원소의 출력(추정 값)과 정답 레이블(참 값)의 차(y_k - t_k)를 제곱한 후, 그 총합을 구한다."
   ]
  },
  {
   "cell_type": "code",
   "execution_count": 2,
   "id": "3f7443a1",
   "metadata": {},
   "outputs": [],
   "source": [
    "import numpy as np\n",
    "def mean_squared_error(y_k, t_k):\n",
    "    return 0.5 * np.sum((y_k - t_k)**2)"
   ]
  },
  {
   "cell_type": "code",
   "execution_count": 3,
   "id": "0fdee646",
   "metadata": {},
   "outputs": [
    {
     "data": {
      "text/plain": [
       "0.09750000000000003"
      ]
     },
     "execution_count": 3,
     "metadata": {},
     "output_type": "execute_result"
    }
   ],
   "source": [
    "# 예 1 : '2'일 확률이 가장 높다고 추정함(0.6)\n",
    "y_k = [0.1, 0.05, 0.6, 0.0, 0.05, 0.1, 0.0, 0.1, 0.0, 0.0]\n",
    "mean_squared_error(np.array(y_k), np.array(t_k))"
   ]
  },
  {
   "cell_type": "code",
   "execution_count": 4,
   "id": "b0c2069c",
   "metadata": {},
   "outputs": [
    {
     "data": {
      "text/plain": [
       "0.5975"
      ]
     },
     "execution_count": 4,
     "metadata": {},
     "output_type": "execute_result"
    }
   ],
   "source": [
    "# 예 2 : '7'일 확률이 가장 높다고 추정함(0.6)\n",
    "y_k = [0.1, 0.05, 0.1, 0.0, 0.05, 0.1, 0.0, 0.6, 0.0, 0.0]\n",
    "mean_squared_error(np.array(y_k), np.array(t_k))"
   ]
  },
  {
   "cell_type": "markdown",
   "id": "1cc6b6b6",
   "metadata": {},
   "source": [
    "&nbsp;첫 번째 예는 정답이 '2'고 신경망의 출력도 '2'에서 가장 높은 경우이다.<br>\n",
    "&nbsp;두 번째 예는 정답이 똑같이 '2'지만, 신경망의 출력은 '7'에서 가장 높다.<br> \n",
    "<br>\n",
    "&nbsp;이 실험의 결과로 첫 번째 예의 손실 함수 쪽 출력이 작으며 정답 레이블과의 오차도 작은 것을 알 수 있다. 즉, 평균 제곱 오차를 기준으로 첫 번째 추정 결과가 (오차가 더 작으니) 정답에 더 가까울 것으로 판단할 수 있다."
   ]
  },
  {
   "cell_type": "markdown",
   "id": "edc28215",
   "metadata": {},
   "source": [
    "## 4.2.2 교차 엔트로피\n",
    "&nbsp;또 다른 손실 함수로서 **교차 엔트로피 오차(cross entropy error, CEE)**도 자주 사용한다.<br>\n",
    "<img src=\"https://img1.daumcdn.net/thumb/R1280x0/?scode=mtistory2&fname=https%3A%2F%2Fblog.kakaocdn.net%2Fdn%2FNAFf7%2Fbtq1WKpHPxE%2FEuafGjZOGD0ddh7yHoWybK%2Fimg.jpg\"  width=\"150px\" height=\"150px\"></img><br>\n",
    " &nbsp;log는 밑이 e인 자연로그이다. 실질적으로 정답일 때의 추정(t_k가 1일 때의 y_k)의 자연로그를 계산하는 식이 된다.<br>\n",
    " 예를 들어 정답 레이블은 '2'가 정답이라 하고 이때의 신경망 출력이 0.6이라면 교차 엔트로피 오차는 -log0.6 = 0.51이 된다. 또한 같은 조건에서 신경망 출력이 0.1이라면 -log0.1 = 2.30이 된다. 즉, 교차 엔트로피 오차는 정답일 때의 출력이 전체 값을 정하게 된다.<br><br>\n",
    " 자연로그 y = logx 의 그래프<br>\n",
    "<img src=\"https://img1.daumcdn.net/thumb/R1280x0/?scode=mtistory2&fname=https%3A%2F%2Fblog.kakaocdn.net%2Fdn%2FchMSBp%2Fbtq11yODoRj%2Fsn4Z8DyXUcZpbkELx4lQkk%2Fimg.png\"  width=\"600px\" height=\"600px\"></img><br>\n",
    "&nbsp;이 그림에서 보듯이 x가 1일 때는 y는 0이 되고 x가 0에 가까워질수록 y의 값은 점점 작아진다. 위 식도 마찬가지로 정답에 해당하는 출력이 커질수록 0에 다가가다가, 그 출력이 1일 때 0이 된다. 반대로 정답일 때의 출력이 작아질수록 오차는 커진다."
   ]
  },
  {
   "cell_type": "code",
   "execution_count": 5,
   "id": "56453cde",
   "metadata": {},
   "outputs": [],
   "source": [
    "def cross_entropy_error(y_k, t_k):\n",
    "    delta = 1e-7\n",
    "    return -np.sum(t_k * np.log(y_k + delta))"
   ]
  },
  {
   "cell_type": "markdown",
   "id": "98cd9a16",
   "metadata": {},
   "source": [
    "&nbsp;위 코드에서 아주 작은 값인 delta를 더했다. 이는 np.log() 함수에 0을 입력하면 마이너스 무한대를 뜻하는 -inf가 되어 더 이상 계산을 진행할 수 없게 되기 때문이다. 아주 작은 값을 더해서 절대 0이 되지 않도록, 즉 마이너스 무한대가 발생하지 않도록 한 것이다. "
   ]
  },
  {
   "cell_type": "code",
   "execution_count": 6,
   "id": "2aa2a9b4",
   "metadata": {},
   "outputs": [],
   "source": [
    "y_k = [0.1, 0.05, 0.6, 0.0, 0.05, 0.1, 0.0, 0.1, 0.0, 0.0]\n",
    "t_k = [0, 0, 1, 0, 0, 0, 0, 0, 0, 0]"
   ]
  },
  {
   "cell_type": "code",
   "execution_count": 7,
   "id": "3986a963",
   "metadata": {},
   "outputs": [
    {
     "data": {
      "text/plain": [
       "0.510825457099338"
      ]
     },
     "execution_count": 7,
     "metadata": {},
     "output_type": "execute_result"
    }
   ],
   "source": [
    "cross_entropy_error(np.array(y_k), np.array(t_k))"
   ]
  },
  {
   "cell_type": "code",
   "execution_count": 8,
   "id": "6762c292",
   "metadata": {},
   "outputs": [],
   "source": [
    "y_k = [0.1, 0.05, 0.1, 0.0, 0.05, 0.1, 0.0, 0.6, 0.0, 0.0]"
   ]
  },
  {
   "cell_type": "code",
   "execution_count": 9,
   "id": "5948ec57",
   "metadata": {},
   "outputs": [
    {
     "data": {
      "text/plain": [
       "2.302584092994546"
      ]
     },
     "execution_count": 9,
     "metadata": {},
     "output_type": "execute_result"
    }
   ],
   "source": [
    "cross_entropy_error(np.array(y_k), np.array(t_k))"
   ]
  },
  {
   "cell_type": "markdown",
   "id": "96b1221b",
   "metadata": {},
   "source": [
    "첫 번째 예는 정답일 때의 출력이 0.6인 경우로 오차는 약 0.51이다. 그 다음은 정답일 때의 출력이 더 낮은 0.1인 경우로 오차는 무려 2.3이다.<br>\n",
    "즉, 결과(오차 값)가 더 작은 첫 번째 추정이 정답일 가능성이 높다고 판단한 것으로, 앞서 평균 제곱 오차의 판단과 일치한다."
   ]
  },
  {
   "cell_type": "markdown",
   "id": "ffbd8463",
   "metadata": {},
   "source": [
    "## 4.2.3 미니배치 학습\n",
    " &nbsp;기계학습 문제는 훈련 데이터를 사용해 학습한다. 더 구체적으로 말하면 훈련 데이터에 대한 손실 함수의 값을 구하고, 그 값을 최대한 줄여주는 매개변수를 찾아낸다. 이렇게 하려면 모든 훈련 데이터를 대상으로 손실 함수 값을 구해야 한다. 즉, 훈련 데이터가 100개 있으면 그로부터 계산한 100개의 손실 함수 값들의 합을 지표로 삼는 것이다. <br><br>\n",
    " &nbsp;지금까지 데이터 하나에 대한 손실 함수만 생각했다. 이제 훈련 데이터 모두에 대한 손실 함수의 합을 구하는 방법을 생각해보자. <br>아래는 교차 엔트로피 오차에 대한 식이다.<br>\n",
    "  <img src=\"https://img1.daumcdn.net/thumb/R1280x0/?scode=mtistory2&fname=https%3A%2F%2Fblog.kakaocdn.net%2Fdn%2FckGuuv%2Fbtq1XlQuy6b%2F7VMOsKXz7Igni2KtvHVFf1%2Fimg.jpg\"  width=\"150px\" height=\"150px\"></img><br>\n",
    "&nbsp;데이터가 N개라면 t_nk는 n번째 데이터의 k번째 값을 의미한다(y_nk는 신경망의 출력, t_nk는 정답 레이블). 마지막에 N으로 나누어 정규화하고 있다. N으로 나눔으로써 '평균 손실 함수'를 구하는것이다. 이렇게 평균을 구해 사용하면 훈련 데이터 개수와 관계없이 언제든 통일된 지표를 얻을 수 있다. 예를 들어 훈련 데이터가 1,000개든 10,000개든 상관없이 평균 손실 함수를 구할 수 있다.<br><br>\n",
    "&nbsp;그런데 빅데이터 수준의 수백만에서 수천만도 넘는 데이터에 대한 손실 함수의 합을 구하려면 시간이 오래 걸린다. 이 많은 데이터를 대상으로 일일이 손실 함수를 계산하는 것은 현실적이지 않다. 이런 경우 데이터 일부를 추려 전체의 '근사치'로 이용할 수 있다. 신경망 학습에서도 훈련 데이터로부터 일부만 골라 학습을 수행한다. 이 일부를 **미니배치(mini-batch)**라고 한다. 가령 60,000장의 훈련 데이터 중에서 100장을 무작위로 뽑아 그 100장만을 사용하여 학습하는 것이다. 이러한 학습 방법을 **미니배치 학습**이라고 한다."
   ]
  },
  {
   "cell_type": "code",
   "execution_count": 10,
   "id": "cad2dd79",
   "metadata": {},
   "outputs": [
    {
     "name": "stdout",
     "output_type": "stream",
     "text": [
      "(60000, 784)\n",
      "(60000, 10)\n"
     ]
    }
   ],
   "source": [
    "import sys, os\n",
    "sys.path.append(os.pardir) # 부모 디렉터리의 파일을 가져올 수 있도록 설정\n",
    "import numpy as np\n",
    "from dataset.mnist import load_mnist\n",
    "\n",
    "(x_train, t_train), (x_test, t_test) = \\\n",
    "    load_mnist(normalize=True, one_hot_label=True)\n",
    "\n",
    "print(x_train.shape)\n",
    "print(t_train.shape)"
   ]
  },
  {
   "cell_type": "markdown",
   "id": "57ff0312",
   "metadata": {},
   "source": [
    "&nbsp;MNIST 데이터셋을 읽어온다. 읽어올 때 one_hot_label=True로 지정하여 원-핫 인코딩으로, 즉 정답 위치의 원소만 1이고 나머지는 0인 배열을 얻는다. 훈련 데이터는 60,000개이고, 입력 데이터는 784열(원래는 28 x 28)인 이미지 데이터임을 알 수 있다. 또, 정답 레이블은 10차원 데이터이다.<br><br>\n",
    "&nbsp;훈련 데이터에서 무작위로 10장만 빼보자."
   ]
  },
  {
   "cell_type": "code",
   "execution_count": 11,
   "id": "6bc7aa50",
   "metadata": {},
   "outputs": [],
   "source": [
    "train_size = x_train.shape[0]\n",
    "batch_size = 10\n",
    "batch_mask = np.random.choice(train_size, batch_size)\n",
    "x_batch = x_train[batch_mask]\n",
    "t_batch = t_train[batch_mask]"
   ]
  },
  {
   "cell_type": "code",
   "execution_count": 12,
   "id": "db1e94ed",
   "metadata": {},
   "outputs": [
    {
     "data": {
      "text/plain": [
       "array([45997, 31461, 34318, 11219,   732, 58905, 31487, 55108, 12373,\n",
       "       44551])"
      ]
     },
     "execution_count": 12,
     "metadata": {},
     "output_type": "execute_result"
    }
   ],
   "source": [
    "np.random.choice(60000, 10)"
   ]
  },
  {
   "cell_type": "markdown",
   "id": "348e30e4",
   "metadata": {},
   "source": [
    "np.random.choice()는 지정한 범위의 수 중에서 무작위로 원하는 개수만 꺼낼 수 있다. 가령 np.random.choice(60000, 10)은 0 이상 60000 미만의 수 중에서 무작위로 10개를 골라낸다. 이 함수가 출력한 배열을 미니배치로 뽑아낼 데이터의 인덱스로 사용한다."
   ]
  },
  {
   "cell_type": "markdown",
   "id": "0215f75f",
   "metadata": {},
   "source": [
    "## 4.2.4 (배치용) 교차 엔트로피 오차 구현하기\n"
   ]
  },
  {
   "cell_type": "code",
   "execution_count": 13,
   "id": "f3fb890a",
   "metadata": {},
   "outputs": [],
   "source": [
    "def cross_entropy_error(y_k, t_k):\n",
    "    if y_k.ndim == 1:\n",
    "        t = t.reshape(1, t_k.size)\n",
    "        y = y.reshape(1, y_k.size)\n",
    "    batch_size = y.shape[0]\n",
    "    return -np.sum(t_k * np.log(y_k)) / batch_size"
   ]
  },
  {
   "cell_type": "markdown",
   "id": "da8ab53e",
   "metadata": {},
   "source": [
    "&nbsp;y_k가 1차원이라면, 즉 데이터 하나당 교차 엔트로피 오차를 구하는경우는 reshape 함수로 데이터의 형상을 바꿔준다. 그리고 배치의 크기로 나눠 정규화하고 이미지 1장당 평균의 교차 엔트로피 오차를 계산한다.<br><br>\n",
    "&nbsp;정답 레이블이 원-핫 인코딩이 아니라 '2'나 '7' 등의 숫자 레이블로 주어졌을 때의 교차 엔트로피 오차는 다움과 같이 구현할 수 있다."
   ]
  },
  {
   "cell_type": "code",
   "execution_count": 14,
   "id": "17372443",
   "metadata": {},
   "outputs": [],
   "source": [
    "def cross_entropy_error(y_k, t_k):\n",
    "    if y_k.ndim == 1:\n",
    "        t = t.reshape(1, t_k.size)\n",
    "        y = y.reshape(1, y_k.size)\n",
    "    batch_size = y.shape[0]\n",
    "    return -np.sum(np.log(y_k[np.arange(batch_size), t_k])) / batch_size"
   ]
  },
  {
   "cell_type": "markdown",
   "id": "ca48c1ee",
   "metadata": {},
   "source": [
    "&nbsp;이 구현에서는 원-핫 인코딩일 때 t가 0인 원소는 교차 엔트로피 오차도 0이므로, 그 계산은 무시해도 좋다는 것이 핵심이다. 다시 말하면 정답에 해당하는 신경망의 출력만으로 교차 엔트로피 오차를 계산할 수 있다. <br><br>\n",
    "&nbsp;np.log(y_k[np.arange(batch_size), t_k])를 간단히 설명하자면 np.arange(batch_size)는 0부터 batch_size - 1 까지 배열을 생성한다. 즉, batch_size가 5이면 np.arange(batch_size)는 [0, 1, 2, 3, 4]라는 넘파이 배열을 생성한다. t_k에는 레이블이 [2, 7, 0, 9, 4]와 같이 저장되어 있으므로 각 데이터의 정답 레이블에 해당하는 신경망의 출력을 추출한다. -> [y_k[0,2], y_k[1,7], y_k[2,0], y_k[3,9], y_k[4,4]] 인 넘파이 배열 생성"
   ]
  },
  {
   "cell_type": "markdown",
   "id": "15edb3e4",
   "metadata": {},
   "source": [
    "# 4.3 수치 미분 \n",
    "&nbsp;경사법에서는 기울기(경사) 값을 기준으로 나아갈 방향을 정한다."
   ]
  },
  {
   "cell_type": "markdown",
   "id": "8151a1cb",
   "metadata": {},
   "source": [
    "## 4.3.1 미분\n",
    "&nbsp;미분은 한순간의 변화량을 표시한 것.<br>\n",
    "<img src=\"https://encrypted-tbn0.gstatic.com/images?q=tbn:ANd9GcSkGgNtEESDEJoWmrItNfxt9WJjbKUzYPC4vhkG1h0T6wfXuRYKjkpidxFlWC8EVotiPA&usqp=CAU\"  width=\"300px\" height=\"300px\"></img><br>\n",
    "&nbsp;좌변은 f(x)의 x에 대한 미분(x에 대한 f(x)의 변화량). 즉, x의 '작은 변화'가 함수 f(x)를 얼마나 변화시키느냐를 의미.<br>\n",
    "우변의 lim h->0은 시간을 뜻하는 h를 한없이 0에 가깝게 한다는 의미이다."
   ]
  },
  {
   "cell_type": "code",
   "execution_count": 15,
   "id": "aac604f8",
   "metadata": {},
   "outputs": [],
   "source": [
    "# 위 식을 곧이곧대로 구현\n",
    "# 나쁜 구현 예\n",
    "def numerical_diff(f, x):\n",
    "    h = 10e-50\n",
    "    return (f(x + h) - f(x)) / h"
   ]
  },
  {
   "cell_type": "markdown",
   "id": "f7531fd5",
   "metadata": {},
   "source": [
    "### 첫번째 문제\n",
    "&nbsp;10e-50은 0.00...1 형태에서 0이 50개라는 의미이다. 위 방식은 **반올림 오차**를 일으킨다.<br>\n",
    "반올림 오차는 작은 값(가령 소수점 8자리 이하)이 생략되어 최종 계산 결과에 오차가 생기게 한다. 파이썬에서의 반올림 오차로는 다음과 같은 예가 있다."
   ]
  },
  {
   "cell_type": "code",
   "execution_count": 16,
   "id": "8e0442d6",
   "metadata": {},
   "outputs": [
    {
     "data": {
      "text/plain": [
       "0.0"
      ]
     },
     "execution_count": 16,
     "metadata": {},
     "output_type": "execute_result"
    }
   ],
   "source": [
    "np.float32(1e-50)"
   ]
  },
  {
   "cell_type": "markdown",
   "id": "1425c810",
   "metadata": {},
   "source": [
    "&nbsp;이와 같이 1e-50을 float32형(32비트 부동소수점)으로 나타내면 0.0이 되어, 올바로 표현할 수 없다. 너무 작은 값을 이용하면 컴퓨터로 계산하는 데 문제가 된다. 이 미세한 값 h로 10^(-4)을 이용하자."
   ]
  },
  {
   "cell_type": "markdown",
   "id": "212cf29d",
   "metadata": {},
   "source": [
    "### 두번째 문제\n",
    "&nbsp;함수 f의 차분(임의 두 점에서의 함수 값들의 차이)과 관련한 것이다. x + h와 x사이의 함수 f의 차분을 계산하고 있는데 이는 오차가 있다.<br>\n",
    "**진정한 미분**은 (x + h)와 x사이의 기울기에 해당. 그래서 진정한 미분(진정한 접선)과 위 구현의 값은 일치하지 않음. 이 차이는 h를 무한히 0으로 좁히는 것이 불가능해 생기는 한계이다.<br><br>\n",
    "<img src=\"https://img1.daumcdn.net/thumb/R1280x0/?scode=mtistory2&fname=https%3A%2F%2Fblog.kakaocdn.net%2Fdn%2FebWi25%2Fbtq10KicVzZ%2FuD4G2kLbpJEElk7gQ59zL0%2Fimg.jpg\"  width=\"300px\" height=\"300px\"></img><br>\n",
    "&nbsp;이 오차를 줄이기 위해 (x + h)와 (x - h)일 때의 함수 f의 차분을 계산하는 방법을 사용한다. 이 차분은 x를 중심으로 그 전호의 차분을 계산한다는 의미에서 **중심 차분** 혹은 **중앙 차분**이라 한다."
   ]
  },
  {
   "cell_type": "code",
   "execution_count": 17,
   "id": "0bd41b84",
   "metadata": {},
   "outputs": [],
   "source": [
    "def numerical_diff(f, x):\n",
    "    h = 1e-4  # 0.0001\n",
    "    return (f(x + h) - f(x - h)) / (2*h)"
   ]
  },
  {
   "cell_type": "markdown",
   "id": "7e64b58b",
   "metadata": {},
   "source": [
    "## 4.3.2 수치 미분의 예\n",
    "&nbsp;아주 작은 차분으로 미분하는 것을 **수치 미분**이라고 한다.(근사치로 계산)<br><br>\n",
    "y = 0.01x^2 + 0.1x<br><br>\n",
    "을 구현해보자"
   ]
  },
  {
   "cell_type": "code",
   "execution_count": 18,
   "id": "4c0d36f3",
   "metadata": {},
   "outputs": [],
   "source": [
    "def function_1(x):\n",
    "    return 0.01*x**2 + 0.1*x"
   ]
  },
  {
   "cell_type": "code",
   "execution_count": 19,
   "id": "e11acf59",
   "metadata": {},
   "outputs": [
    {
     "data": {
      "image/png": "[encoded data removed]",
      "text/plain": [
       "<Figure size 432x288 with 1 Axes>"
      ]
     },
     "metadata": {
      "needs_background": "light"
     },
     "output_type": "display_data"
    }
   ],
   "source": [
    "import numpy as np\n",
    "import matplotlib.pylab as plt\n",
    "\n",
    "x = np.arange(0.0, 20.0, 0.1)    # 0에서 20까지 0.1 간격의 배열 x를 만든다\n",
    "y = function_1(x)\n",
    "plt.xlabel('x')\n",
    "plt.ylabel('f(x)')\n",
    "plt.plot(x, y)\n",
    "plt.show()"
   ]
  },
  {
   "cell_type": "code",
   "execution_count": 20,
   "id": "c19f6a1d",
   "metadata": {},
   "outputs": [
    {
     "name": "stdout",
     "output_type": "stream",
     "text": [
      "0.1999999999990898\n",
      "0.2999999999986347\n"
     ]
    }
   ],
   "source": [
    "# x = 5일 때와 10일 때 이 함수의 미분을 계산하자\n",
    "print(numerical_diff(function_1, 5))\n",
    "print(numerical_diff(function_1, 10))"
   ]
  },
  {
   "cell_type": "markdown",
   "id": "211bac65",
   "metadata": {},
   "source": [
    "## 4.3.3 편미분\n",
    "f(x0, x1) = x0^2 + x1^2<br><br>\n",
    "&nbsp;위 식은 앞의 예와 달리 변수가 2개이다."
   ]
  },
  {
   "cell_type": "code",
   "execution_count": 21,
   "id": "473a5714",
   "metadata": {},
   "outputs": [],
   "source": [
    "def function_2(x):\n",
    "    return x[0]**2 + x[1]**2\n",
    "# 또는return np.sum(x**2)"
   ]
  },
  {
   "cell_type": "markdown",
   "id": "fd03834b",
   "metadata": {},
   "source": [
    "&nbsp;위처럼 변수가 여럿인 함수에 대한 미분을 **편미분**이라고 한다.<br>\n",
    "<img src=\"https://img1.daumcdn.net/thumb/R1280x0/?scode=mtistory2&fname=https%3A%2F%2Fblog.kakaocdn.net%2Fdn%2FcSNsH1%2Fbtq1ZFH83qa%2Fj4bsNVGWu1kijCXoKEskK1%2Fimg.jpg\"  width=\"300px\" height=\"300px\"></img><br>\n",
    "f(x0, x1) = x0^2 + x1^2<br><br>\n",
    "에 대한 문제를 풀어보자"
   ]
  },
  {
   "cell_type": "code",
   "execution_count": 22,
   "id": "2c6680c5",
   "metadata": {},
   "outputs": [
    {
     "data": {
      "text/plain": [
       "6.00000000000378"
      ]
     },
     "execution_count": 22,
     "metadata": {},
     "output_type": "execute_result"
    }
   ],
   "source": [
    "# x0 = 3, x1 = 4일 때, x0에 대한 편미분을 구하라\n",
    "def function_tmp1(x0):\n",
    "    return x0*x0 + 4.0**2.0\n",
    "numerical_diff(function_tmp1, 3.0)"
   ]
  },
  {
   "cell_type": "code",
   "execution_count": 23,
   "id": "389282af",
   "metadata": {},
   "outputs": [
    {
     "data": {
      "text/plain": [
       "7.999999999999119"
      ]
     },
     "execution_count": 23,
     "metadata": {},
     "output_type": "execute_result"
    }
   ],
   "source": [
    "# x0 = 3, x1 = 4일 때, x1에 대한 편미분을 구하라\n",
    "def function_tmp2(x1):\n",
    "    return 3.0**2.0 + x1*x1\n",
    "numerical_diff(function_tmp2, 4.0)"
   ]
  },
  {
   "cell_type": "markdown",
   "id": "c71a3536",
   "metadata": {},
   "source": [
    "# 4.4 기울기\n",
    "&nbsp;앞 절의 예에서는 x0과 x1의 편미분을 변수별로 따로 계산했다. 그럼 x0와 x1의 편미분을 동시에 계산하고 싶다면 어떻게 해야할까?<br>\n",
    "&nbsp;모든 변수의 편미분을 벡터로 정리한 것을 **기울기(gradient)**라고 한다."
   ]
  },
  {
   "cell_type": "code",
   "execution_count": 24,
   "id": "54249b07",
   "metadata": {},
   "outputs": [],
   "source": [
    "def numerical_gradient(f, x):\n",
    "    h = 1e-4\n",
    "    grad = np.zeros_like(x) # x와 형상이 같은 원소가 모두 0인 배열을 생성\n",
    "    \n",
    "    for idx in range(x.size):\n",
    "        tmp_val = x[idx]\n",
    "        \n",
    "        # f(x + h) 계산\n",
    "        x[idx] = tmp_val + h\n",
    "        fxh1 = f(x)\n",
    "        \n",
    "        # f(x - h) 계산\n",
    "        x[idx] = tmp_val - h\n",
    "        fxh2 = f(x)\n",
    "        \n",
    "        grad[idx] = (fxh1 - fxh2) / (2*h)\n",
    "        x[idx] = tmp_val # 값 복원\n",
    "        \n",
    "    return grad"
   ]
  },
  {
   "cell_type": "markdown",
   "id": "97d1e99e",
   "metadata": {},
   "source": [
    "&nbsp;이제 (3,4), (0,2), (3,0)에서의 기울기를 구해보자"
   ]
  },
  {
   "cell_type": "code",
   "execution_count": 25,
   "id": "3708d97b",
   "metadata": {},
   "outputs": [
    {
     "name": "stdout",
     "output_type": "stream",
     "text": [
      "[6. 8.]\n",
      "[0. 4.]\n",
      "[6. 0.]\n"
     ]
    }
   ],
   "source": [
    "print(numerical_gradient(function_2, np.array([3.0, 4.0])))\n",
    "print(numerical_gradient(function_2, np.array([0.0, 2.0])))\n",
    "print(numerical_gradient(function_2, np.array([3.0, 0.0])))"
   ]
  },
  {
   "cell_type": "markdown",
   "id": "158e2ba2",
   "metadata": {},
   "source": [
    "<img src=\"https://img1.daumcdn.net/thumb/R1280x0/?scode=mtistory2&fname=https%3A%2F%2Fblog.kakaocdn.net%2Fdn%2FuLN5K%2Fbtq1ZECyRMI%2FiOWb1SwbRpgu3DigLepLyK%2Fimg.png\"  width=\"500px\" height=\"500px\"></img><br>\n",
    "&nbsp;위 그림은 위 기울기의 결과에 마이너스를 붙인 벡터를 그린 것이다.<br>\n",
    "기울기는 함수의 '가장 낮은 장소(최솟값)'를 가리키는 것 같다. 최솟값에서 멀어질수록 화살표의 크기가 커짐을 알 수 있다.<br>\n",
    "<br>\n",
    "&nbsp;기울기는 각 지점에서 낮아지는 방향을 가리킨다. 더 정확히 말하자면 **기울기가 가리키는 쪽은 각 장소에서 함수의 출력 값을 가장 줄이는 방향**이다. "
   ]
  },
  {
   "cell_type": "markdown",
   "id": "8841d030",
   "metadata": {},
   "source": [
    "## 4.4.1 경사법(경사 하강법)"
   ]
  },
  {
   "cell_type": "markdown",
   "id": "eb456170",
   "metadata": {},
   "source": [
    "&nbsp;일반적인 문제의 손실 함수는 매우 복잡하다. 매개변수 공간이 광대하여 어디가 최솟값이 되는 곳인지를 알아내기가 쉽지않다. 이런 상황에서 기울기를 잘 이용해 함수의 최솟값(또는 가능한 한 작은 값)을 찾으려는 것이 경사법이다.<br><br>\n",
    "&nbsp;각 지점에서 함수의 값을 낮추는 방안을 제시하는 지표가 기울기다. 하지만 기울기가 가리키는 곳이 정말로 최소값인지 보장할 수 없다. 실제로 복잡한 함수에서는 기울기가 가리키는 방향에 최솟값이 없는 경우가 대부분이다.<br><br>\n",
    "&nbsp;경사법은 현 위치에서 기울어진 방향으로 일정 거리만큼 이동한다. 그런 다음 이동한 곳에서도 마찬가지로 기울기를 구하고, 또 기울어진 방향으로 나아가기를 반복한다. 이렇게 해서 함수의 값을 점차 줄이는 것이 **경사법**이다. 경사법은 기계학습을 최적화하는 데 흔히 쓰는 방법이다."
   ]
  },
  {
   "cell_type": "markdown",
   "id": "e4ee2456",
   "metadata": {},
   "source": [
    "<img src=\"https://img1.daumcdn.net/thumb/R1280x0/?scode=mtistory2&fname=https%3A%2F%2Fblog.kakaocdn.net%2Fdn%2FbP6FUT%2Fbtq127DDzmK%2FdqSvlXgScHa308CLIKHko0%2Fimg.jpg\"  width=\"150px\" height=\"150px\"></img><br>\n",
    "&nbsp;경사법의 수식이다. n기호(에타)는 갱신하는 양 (학습률) : 한번의 학습으로 얼마나 갱신할지, 학습률 값은 미리 특정 값으로 정해야한다."
   ]
  },
  {
   "cell_type": "code",
   "execution_count": 26,
   "id": "183fd043",
   "metadata": {},
   "outputs": [],
   "source": [
    "def gradient_descent(f, init_x, lr=0.01, step_num=100):\n",
    "    x = init_x\n",
    "    \n",
    "    for i in range(step_num):\n",
    "        grad = numerical_gradient(f, x)\n",
    "        x -= lr * grad\n",
    "    return x"
   ]
  },
  {
   "cell_type": "code",
   "execution_count": 28,
   "id": "abd81f11",
   "metadata": {},
   "outputs": [
    {
     "data": {
      "text/plain": [
       "array([-6.11110793e-10,  8.14814391e-10])"
      ]
     },
     "execution_count": 28,
     "metadata": {},
     "output_type": "execute_result"
    }
   ],
   "source": [
    "# 문제: 경사법으로 f(x0, x1) = x0^2 + x1^2 의 최솟값을 구하라\n",
    "def function_2(x):\n",
    "    return x[0]**2 + x[1]**2\n",
    "init_x = np.array([-3.0, 4.0])\n",
    "gradient_descent(function_2, init_x=init_x, lr=0.1, step_num=100)"
   ]
  },
  {
   "cell_type": "markdown",
   "id": "6cd280f8",
   "metadata": {},
   "source": [
    "&nbsp;초깃값 (-3.0, 4.0)에서 최솟값 탐색을 시작하여, 최종 결과는 (-6.11110793e-10,  8.14814391e-10)으로, 거의 (0, 0)에 가까운 결과이다.<br>이 과정을 그림으로 나타내면 다음과 같다.<br>\n",
    "<img src=\"https://img1.daumcdn.net/thumb/R1280x0/?scode=mtistory2&fname=https%3A%2F%2Fblog.kakaocdn.net%2Fdn%2FlCGSD%2Fbtq11LVd9lU%2FmdkieKHef3KxriTCJCkU90%2Fimg.png\"  width=\"500px\" height=\"500px\"></img><br>"
   ]
  },
  {
   "cell_type": "code",
   "execution_count": 29,
   "id": "ed70a2cc",
   "metadata": {},
   "outputs": [
    {
     "data": {
      "text/plain": [
       "array([-2.58983747e+13, -1.29524862e+12])"
      ]
     },
     "execution_count": 29,
     "metadata": {},
     "output_type": "execute_result"
    }
   ],
   "source": [
    "#학습률이 너무 큰 예 : lr=10.0\n",
    "init_x = np.array([-3.0, 4.0])\n",
    "gradient_descent(function_2, init_x=init_x, lr=10.0, step_num=100)"
   ]
  },
  {
   "cell_type": "code",
   "execution_count": 30,
   "id": "0b936a1f",
   "metadata": {},
   "outputs": [
    {
     "data": {
      "text/plain": [
       "array([-2.99999994,  3.99999992])"
      ]
     },
     "execution_count": 30,
     "metadata": {},
     "output_type": "execute_result"
    }
   ],
   "source": [
    "#학습률이 너무 작은 예 : lr=1e-10\n",
    "init_x = np.array([-3.0, 4.0])\n",
    "gradient_descent(function_2, init_x=init_x, lr=1e-10, step_num=100)"
   ]
  },
  {
   "cell_type": "markdown",
   "id": "c3f8755b",
   "metadata": {},
   "source": [
    "&nbsp;학습률이 너무 크면 큰 값으로 발산<br>\n",
    "&nbsp;학습률이 너무 작으면 거의 갱신되지 않은채 끝남<br><br>\n",
    "**NOTE_** 학습률 같은 매개변스롤 **하이퍼파라미터**라고 한다. 이는 가중치, 편향 같은 신경망의 매개변수와는 성질이 다른 매개변수이다. 신경망의 가중치 매개변수는 훈련 데이터와 학습 알고리즘에 의해 '자동'으로 획득되는 매개변수인 반면, 학습률 같은 하이퍼파라미터는 사람이 직접 설정해야하는 매개변수이다."
   ]
  },
  {
   "cell_type": "markdown",
   "id": "8f592dcf",
   "metadata": {},
   "source": [
    "## 4.4.2 신경망에서의 기울기\n"
   ]
  },
  {
   "cell_type": "code",
   "execution_count": null,
   "id": "afd2fd74",
   "metadata": {},
   "outputs": [],
   "source": []
  }
 ],
 "metadata": {
  "kernelspec": {
   "display_name": "Python 3 (ipykernel)",
   "language": "python",
   "name": "python3"
  },
  "language_info": {
   "codemirror_mode": {
    "name": "ipython",
    "version": 3
   },
   "file_extension": ".py",
   "mimetype": "text/x-python",
   "name": "python",
   "nbconvert_exporter": "python",
   "pygments_lexer": "ipython3",
   "version": "3.9.12"
  }
 },
 "nbformat": 4,
 "nbformat_minor": 5
}
