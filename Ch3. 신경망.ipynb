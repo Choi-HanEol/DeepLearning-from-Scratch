{
 "cells": [
  {
   "cell_type": "markdown",
   "id": "ceff271d",
   "metadata": {},
   "source": [
    "# 3.1 퍼셉트론에서 신경망으로"
   ]
  },
  {
   "cell_type": "markdown",
   "id": "bd50d89f",
   "metadata": {},
   "source": [
    "## 3.1.1 신경망의 예\n",
    "신경망은 입력층, 은닉층, 출력층으로 이루어져있다. 은닉층은 사람 눈에는 보이지 않는다.<br>\n",
    "<img src=\"https://sean-parkk.github.io/assets/images/DLscratch/3/Untitled.png\"  width=\"400px\" height=\"400px\"></img><br>\n",
    "위 사진에서는 0층이 입력층, 1층이 은닉층, 2층이 출력층이 된다.<br>\n",
    "\n",
    "### 복습\n",
    "**편향**은 뉴런이 얼마나 쉽게 활성화되느냐를 제어<br>\n",
    "**가중치**는 각 신호의 영향력을 제어<br>\n",
    "<br>\n",
    "## 3.1.3 활성화 함수의 등장\n",
    "<img src=\"https://t1.daumcdn.net/cfile/tistory/99C0EA3D5D68836115\"  width=\"400px\" height=\"400px\"></img><br>\n",
    "위 식에서의 h(x) 처럼 입력 신호의 총합을 출력 신호로 변환하는 함수를 **활성화 함수(activation function)** 라고 한다.<br>\n",
    "입력 신호의 총합이 활성화를 일으키는지를 정하는 역할을 한다.<br><br>\n",
    "### a = b + w1x1 + w2x2\n",
    "### y = h(a)\n",
    "위 식의 처리 과정은 아래와 같다.<br>\n",
    "\n",
    "<img src=\"https://velog.velcdn.com/images%2Fjoo4438%2Fpost%2Fa2d53cc7-446e-419e-a740-b407d26f617b%2Fimage.png\"  width=\"400px\" height=\"400px\"></img><br>\n"
   ]
  },
  {
   "cell_type": "markdown",
   "id": "25472861",
   "metadata": {},
   "source": [
    "# 3.2 활성화 함수"
   ]
  },
  {
   "cell_type": "markdown",
   "id": "fc0a63d1",
   "metadata": {},
   "source": [
    "## 3.2.1 시그모이드 함수\n",
    "<img src=\"https://mblogthumb-phinf.pstatic.net/MjAyMDA3MDdfMTgx/MDAxNTk0MTMwODg2NzAw.Bgt42rm3pV0xTPfuVjN1UbXw9HchDcAdLdvnsrAQvJ0g.ILAv2yJkoMXNiWHKAUe0QswJWyr84GwwlRbXwxCogKUg.PNG.zzoyou_/sigmoid.png?type=w800\"  width=\"400px\" height=\"400px\"></img><br>\n",
    "앞장에서 본 퍼셉트론과 앞으로 볼 신경망의 주된 차이는 이 활성화 함수뿐이다."
   ]
  },
  {
   "cell_type": "markdown",
   "id": "2dc24f48",
   "metadata": {},
   "source": [
    "## 3.2.2 계단 함수 구현하기\n",
    "계단함수는 <img src=\"https://t1.daumcdn.net/cfile/tistory/99C0EA3D5D68836115\"  width=\"400px\" height=\"400px\"></img><br>\n",
    "위 식과 같이 입력이 0을 넘으면 1을 출력하고, 그 외에는 0을 출력하는 함수이다.<BR>"
   ]
  },
  {
   "cell_type": "code",
<<<<<<< HEAD
   "execution_count": 1,
=======
   "execution_count": 39,
>>>>>>> 3378a7e7a66866ce1136863765cff3a48db9d34a
   "id": "d994d73e",
   "metadata": {},
   "outputs": [
    {
     "name": "stdout",
     "output_type": "stream",
     "text": [
      "1\n",
      "0\n"
     ]
    }
   ],
   "source": [
    "def step_function(x):\n",
    "    if x > 0:\n",
    "        return 1\n",
    "    else:\n",
    "        return 0\n",
    "    \n",
    "print(step_function(0.5))\n",
    "print(step_function(-0.5))"
   ]
  },
  {
   "cell_type": "markdown",
   "id": "cf633486",
   "metadata": {},
   "source": [
    "위 함수는 구현은 간단하지만 인수 x는 실수만 받아들여진다.<br>\n",
    "이를 보완하여 넘파이 배열도 지원하도록 수정해보자."
   ]
  },
  {
   "cell_type": "code",
<<<<<<< HEAD
   "execution_count": 2,
=======
   "execution_count": 40,
>>>>>>> 3378a7e7a66866ce1136863765cff3a48db9d34a
   "id": "511e072e",
   "metadata": {},
   "outputs": [],
   "source": [
    "import numpy as np\n",
    "\n",
    "def step_function(x):\n",
    "    y = x > 0\n",
    "    return y.astype(np.int32)    # np.int64도 있음, 32bit는 4 Byte 64bit는 8Byte 이므로 할당받는 메모리의 크기와 사용할 수 있는 수의 차이가 생긴다. \n",
    "#넘파이 배열의 자료형을 변환할 때는 astype() 메서드를 이용함"
   ]
  },
  {
   "cell_type": "code",
<<<<<<< HEAD
   "execution_count": 3,
=======
   "execution_count": 41,
>>>>>>> 3378a7e7a66866ce1136863765cff3a48db9d34a
   "id": "f7274109",
   "metadata": {},
   "outputs": [
    {
     "data": {
      "text/plain": [
       "array([-1.,  1.,  2.])"
      ]
     },
<<<<<<< HEAD
     "execution_count": 3,
=======
     "execution_count": 41,
>>>>>>> 3378a7e7a66866ce1136863765cff3a48db9d34a
     "metadata": {},
     "output_type": "execute_result"
    }
   ],
   "source": [
    "x = np.array([-1.0, 1.0, 2.0])\n",
    "x"
   ]
  },
  {
   "cell_type": "code",
<<<<<<< HEAD
   "execution_count": 4,
=======
   "execution_count": 42,
>>>>>>> 3378a7e7a66866ce1136863765cff3a48db9d34a
   "id": "c836faf2",
   "metadata": {},
   "outputs": [
    {
     "data": {
      "text/plain": [
       "array([False,  True,  True])"
      ]
     },
<<<<<<< HEAD
     "execution_count": 4,
=======
     "execution_count": 42,
>>>>>>> 3378a7e7a66866ce1136863765cff3a48db9d34a
     "metadata": {},
     "output_type": "execute_result"
    }
   ],
   "source": [
    "y = x > 0\n",
    "y"
   ]
  },
  {
   "cell_type": "code",
<<<<<<< HEAD
   "execution_count": 5,
=======
   "execution_count": 43,
>>>>>>> 3378a7e7a66866ce1136863765cff3a48db9d34a
   "id": "007e24ba",
   "metadata": {},
   "outputs": [
    {
     "data": {
      "text/plain": [
       "array([0, 1, 1])"
      ]
     },
<<<<<<< HEAD
     "execution_count": 5,
=======
     "execution_count": 43,
>>>>>>> 3378a7e7a66866ce1136863765cff3a48db9d34a
     "metadata": {},
     "output_type": "execute_result"
    }
   ],
   "source": [
    "y = y.astype(np.int32)\n",
    "y\n",
    "#파이썬에서는 bool을 int형으로 반환하면 True는 1, False는 0으로 변환해줌"
   ]
  },
  {
   "cell_type": "code",
<<<<<<< HEAD
   "execution_count": 6,
=======
   "execution_count": 44,
>>>>>>> 3378a7e7a66866ce1136863765cff3a48db9d34a
   "id": "caf7ebf4",
   "metadata": {},
   "outputs": [
    {
     "data": {
      "text/plain": [
       "array([0, 1, 1])"
      ]
     },
<<<<<<< HEAD
     "execution_count": 6,
=======
     "execution_count": 44,
>>>>>>> 3378a7e7a66866ce1136863765cff3a48db9d34a
     "metadata": {},
     "output_type": "execute_result"
    }
   ],
   "source": [
    "step_function(x)"
   ]
  },
  {
   "cell_type": "markdown",
   "id": "cf9a1a8b",
   "metadata": {},
   "source": [
    "## 3.2.3 계단함수의 그래프"
   ]
  },
  {
   "cell_type": "code",
<<<<<<< HEAD
   "execution_count": 7,
=======
   "execution_count": 45,
>>>>>>> 3378a7e7a66866ce1136863765cff3a48db9d34a
   "id": "f3e3ea66",
   "metadata": {},
   "outputs": [
    {
     "data": {
      "image/png": "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\n",
      "text/plain": [
       "<Figure size 432x288 with 1 Axes>"
      ]
     },
     "metadata": {
      "needs_background": "light"
     },
     "output_type": "display_data"
    }
   ],
   "source": [
    "import numpy as np\n",
    "import matplotlib.pylab as plt\n",
    "\n",
    "def step_function(x):\n",
    "    return np.array(x > 0, dtype=np.int32)\n",
    "\n",
    "x = np.arange(-5.0, 5.0, 0.1)\n",
    "y = step_function(x)\n",
    "plt.plot(x, y)\n",
    "plt.ylim(-0.1, 1.1)    # y축의 범위 지정\n",
    "plt.show()"
   ]
  },
  {
   "cell_type": "markdown",
   "id": "107e9d70",
   "metadata": {},
   "source": [
    "## 3.2.4 시그모이드 함수 구현하기"
   ]
  },
  {
   "cell_type": "code",
<<<<<<< HEAD
   "execution_count": 8,
=======
   "execution_count": 46,
>>>>>>> 3378a7e7a66866ce1136863765cff3a48db9d34a
   "id": "c6afc41a",
   "metadata": {},
   "outputs": [],
   "source": [
    "def sigmoid(x):\n",
    "    return 1 / (1 + np.exp(-x))"
   ]
  },
  {
   "cell_type": "code",
<<<<<<< HEAD
   "execution_count": 9,
=======
   "execution_count": 47,
>>>>>>> 3378a7e7a66866ce1136863765cff3a48db9d34a
   "id": "90b89dff",
   "metadata": {},
   "outputs": [
    {
     "data": {
      "text/plain": [
       "array([0.26894142, 0.73105858, 0.88079708])"
      ]
     },
<<<<<<< HEAD
     "execution_count": 9,
=======
     "execution_count": 47,
>>>>>>> 3378a7e7a66866ce1136863765cff3a48db9d34a
     "metadata": {},
     "output_type": "execute_result"
    }
   ],
   "source": [
    "x = np.array([-1.0, 1.0, 2.0])\n",
    "sigmoid(x)"
   ]
  },
  {
   "cell_type": "code",
<<<<<<< HEAD
   "execution_count": 10,
=======
   "execution_count": 48,
>>>>>>> 3378a7e7a66866ce1136863765cff3a48db9d34a
   "id": "9f1362bb",
   "metadata": {},
   "outputs": [
    {
     "data": {
      "image/png": "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\n",
      "text/plain": [
       "<Figure size 432x288 with 1 Axes>"
      ]
     },
     "metadata": {
      "needs_background": "light"
     },
     "output_type": "display_data"
    }
   ],
   "source": [
    "x = np.arange(-5.0, 5.0, 0.1)\n",
    "y = sigmoid(x)\n",
    "plt.plot(x, y)\n",
    "plt.ylim(-0.1, 1.1)    # y축의 범위 지정\n",
    "plt.show()"
   ]
  },
  {
   "cell_type": "markdown",
   "id": "48dc05ec",
   "metadata": {},
   "source": [
    "## 3.2.5 시그모이드 함수와 계단 함수 비교"
   ]
  },
  {
   "cell_type": "code",
<<<<<<< HEAD
   "execution_count": 11,
=======
   "execution_count": 49,
>>>>>>> 3378a7e7a66866ce1136863765cff3a48db9d34a
   "id": "cc0c61a9",
   "metadata": {},
   "outputs": [
    {
     "data": {
      "image/png": "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\n",
      "text/plain": [
       "<Figure size 432x288 with 1 Axes>"
      ]
     },
     "metadata": {
      "needs_background": "light"
     },
     "output_type": "display_data"
    }
   ],
   "source": [
    "x = np.arange(-5.0, 5.0, 0.1)\n",
    "y = sigmoid(x)\n",
    "plt.plot(x, y)\n",
    "\n",
    "x = np.arange(-5.0, 5.0, 0.1)\n",
    "y = step_function(x)\n",
    "plt.plot(x, y, linestyle = '--')\n",
    "\n",
    "plt.ylim(-0.1, 1.1)    # y축의 범위 지정\n",
    "plt.show()"
   ]
  },
  {
   "cell_type": "markdown",
   "id": "c1945291",
   "metadata": {},
   "source": [
    "계단 함수가 0과 1중 하나의 값만 돌려주는 반면 시그모이드 함수는 실수를 돌려준다.<br>\n",
    "다시 말해 퍼셉트론에서는 뉴런 사이에 0 혹은 1이 흘렀다면, 신경망에서는 연속적인 실수가 흐른다.<br><br>\n",
    "둘 다 입력이 작을 때의 출력은 0에 가깝고(혹은 0이고), 입력이 커지면 출력이 1에 가까워지는(혹은 1이 되는) 구조이다.<br>\n",
    "즉, 계단 함수와 시그모이드 함수는 입력이 중요하면 큰 값을 출력하고 입력이 중요하지 않으면 작은 값을 출력한다. 그리고 입력이 아무리 작거나 커도 출력은 0에서 1사이라는 것도 둘의 공통점이다."
   ]
  },
  {
   "cell_type": "markdown",
   "id": "aae0f6b3",
   "metadata": {},
   "source": [
    "## 3.2.6 비선형 함수\n",
    "계단 함수와 시그모이드 함수의 중요한 공통점은 둘 모두 **비선형 함수**라는 것이다.<br><br>\n",
    "- -----------------\n",
    "### NOTE\n",
    "무언가 입력했을 때 입력의 상수배만큼 변하는 함수를 **선형 함수**, 수식으로는 f(x) = ax + b 이고, 이때 a와 b는 상수이다. 그래서 선형 함수는 곧 1개의 직선이 된다.<br><br>\n",
    "직선 1개로는 그릴 수 없는 함수, 선형이 아닌 함수를 **비선형 함수** 라고한다.\n",
    "- ------------------\n",
    "<br>\n",
    "신경망에서는 활성화 함수로 비선형 함수를 사용해야 한다. 선형 함수를 이용하면 신경망의 층을 깊게 하는 의미가 없어지기 때문이다.<br>\n",
    "h(x) = cx 를 활성화 함수로 사용하는 3층 네트워크를 떠올려보자<br>\n",
    "y(x) = h(h(h(x))) 가 된다. 그리고 이 계산은 y(x) = c * c * c * x 를 수행하고 이는 y(x) = ax와 똑같은 식이다. a = c^3 이라고하면 끝이다.<br> 즉, 은닉층이 없는 네트워크로 표현할 수 있다. 선형 함수를 활성화 함수로 사용하면 츠을 쌓는 이점을 살릴 수 없다.\n"
   ]
  },
  {
   "cell_type": "markdown",
   "id": "fab6af58",
   "metadata": {},
   "source": [
    "## 3.2.7 ReLU 함수\n",
    "Rectified Linear Unit, 줄여서 ReLU(렐루) 함수이다.<br>\n",
    "ReLU는 입력이 0을 넘으면 그 입력을 그대로 출력하고, 0 이하이면 0을 출력하는 함수이다.<br>\n",
    "<img src=\"http://buttercoconut.xyz/wp-content/uploads/2018/02/%E1%84%85%E1%85%A6%E1%86%AF%E1%84%85%E1%85%AE.jpg\"  width=\"400px\" height=\"400px\"></img><br>\n",
    "식은 <img src=\"https://user-images.githubusercontent.com/63298243/90751221-d02fd900-e310-11ea-81a0-35e16c3f6e7a.png\"  width=\"200px\" height=\"200px\"></img><br>\n",
    "이다."
   ]
  },
  {
   "cell_type": "code",
<<<<<<< HEAD
   "execution_count": 12,
=======
   "execution_count": 50,
>>>>>>> 3378a7e7a66866ce1136863765cff3a48db9d34a
   "id": "57b7f4c0",
   "metadata": {},
   "outputs": [],
   "source": [
    "def relu(x):\n",
    "    return np.maximum(0, x)\n",
    "# np.maximum()은 두 입력 중 큰 값을 선택해 반환하는 함수이다."
   ]
  },
  {
   "cell_type": "markdown",
   "id": "dca74315",
   "metadata": {},
   "source": [
    "# 3.3 다차원 배열 계산"
   ]
  },
  {
   "cell_type": "markdown",
   "id": "e754e7da",
   "metadata": {},
   "source": [
    "## 3.3.1 다차원 배열"
   ]
  },
  {
   "cell_type": "code",
<<<<<<< HEAD
   "execution_count": 13,
=======
   "execution_count": 51,
>>>>>>> 3378a7e7a66866ce1136863765cff3a48db9d34a
   "id": "cd668148",
   "metadata": {},
   "outputs": [
    {
     "name": "stdout",
     "output_type": "stream",
     "text": [
      "[1 2 3 4]\n",
      "1\n",
      "(4,)\n",
      "4\n"
     ]
    }
   ],
   "source": [
    "import numpy as np\n",
    "A = np.array([1,2,3,4])\n",
    "print(A)\n",
    "print(np.ndim(A))    # 배열 차원 수\n",
    "print(A.shape)    # 배열의 형상, 튜플을 반환, 1차원 원소개수 4개\n",
    "print(A.shape[0])"
   ]
  },
  {
   "cell_type": "code",
<<<<<<< HEAD
   "execution_count": 14,
=======
   "execution_count": 52,
>>>>>>> 3378a7e7a66866ce1136863765cff3a48db9d34a
   "id": "667b2984",
   "metadata": {},
   "outputs": [
    {
     "name": "stdout",
     "output_type": "stream",
     "text": [
      "[[1 2]\n",
      " [3 4]\n",
      " [5 6]]\n",
      "-------------------\n",
      "2\n",
      "-------------------\n",
      "(3, 2)\n",
      "-------------------\n",
      "3\n",
      "-------------------\n",
      "2\n"
     ]
    }
   ],
   "source": [
    "B = np.array([[1,2], [3,4], [5,6]])\n",
    "print(B)\n",
    "print('-------------------')\n",
    "print(np.ndim(B)) \n",
    "print('-------------------')\n",
    "print(B.shape)    \n",
    "print('-------------------')\n",
    "print(B.shape[0])\n",
    "print('-------------------')\n",
    "print(B.shape[1])"
   ]
  },
  {
   "cell_type": "code",
<<<<<<< HEAD
   "execution_count": 15,
=======
   "execution_count": 53,
>>>>>>> 3378a7e7a66866ce1136863765cff3a48db9d34a
   "id": "6470cbee",
   "metadata": {},
   "outputs": [
    {
     "name": "stdout",
     "output_type": "stream",
     "text": [
      "[[[1 2]\n",
      "  [3 4]\n",
      "  [5 6]]\n",
      "\n",
      " [[1 2]\n",
      "  [3 4]\n",
      "  [5 6]]\n",
      "\n",
      " [[1 2]\n",
      "  [3 4]\n",
      "  [5 6]]]\n",
      "-------------------\n",
      "3\n",
      "-------------------\n",
      "(3, 3, 2)\n"
     ]
    }
   ],
   "source": [
    "C = np.array([[[1,2], [3,4], [5,6]], [[1,2], [3,4], [5,6]], [[1,2], [3,4], [5,6]]])\n",
    "print(C)\n",
    "print('-------------------')\n",
    "print(np.ndim(C)) \n",
    "print('-------------------')\n",
    "print(C.shape)    # 배열의 형상, 튜플을 반환, 1차원 원소개수 4개"
   ]
  },
  {
   "cell_type": "markdown",
   "id": "97f8122e",
   "metadata": {},
   "source": [
    "<img src=\"https://blog.kakaocdn.net/dn/c5cq83/btqCX8l2QoO/657k9dEKlR99cSEhoEs0PK/img.png\"  width=\"200px\" height=\"200px\"></img><br>"
   ]
  },
  {
   "cell_type": "markdown",
   "id": "0dbbc407",
   "metadata": {},
   "source": [
    "## 3.3.2 행렬의 내적(행렬 곱)\n",
    "<img src=\"https://img1.daumcdn.net/thumb/R1280x0/?scode=mtistory2&fname=https%3A%2F%2Fblog.kakaocdn.net%2Fdn%2F3yY3A%2FbtqCXv2QUnM%2FeZjp8W4RKamj2HAq688sQ1%2Fimg.png\"  width=\"400px\" height=\"600px\"></img>\n"
   ]
  },
  {
   "cell_type": "code",
<<<<<<< HEAD
   "execution_count": 16,
=======
   "execution_count": 54,
>>>>>>> 3378a7e7a66866ce1136863765cff3a48db9d34a
   "id": "e2b94d90",
   "metadata": {},
   "outputs": [
    {
     "name": "stdout",
     "output_type": "stream",
     "text": [
      "A.shape = (2, 2)\n",
      "\n",
      "B.shape = (2, 2)\n",
      "\n",
      "np.dot(A, B) =\n",
      "[[19 22]\n",
      " [43 50]]\n"
     ]
    }
   ],
   "source": [
    "A = np.array([[1,2], [3,4]])\n",
    "print(\"A.shape =\", A.shape)\n",
    "print()\n",
    "B = np.array([[5,6], [7,8]])\n",
    "print(\"B.shape =\", B.shape)\n",
    "print()\n",
    "print('np.dot(A, B) =')\n",
    "print(np.dot(A, B))"
   ]
  },
  {
   "cell_type": "code",
<<<<<<< HEAD
   "execution_count": 17,
=======
   "execution_count": 55,
>>>>>>> 3378a7e7a66866ce1136863765cff3a48db9d34a
   "id": "9bca4c5d",
   "metadata": {},
   "outputs": [
    {
     "name": "stdout",
     "output_type": "stream",
     "text": [
      "np.dot(B, A) =\n",
      "[[23 34]\n",
      " [31 46]]\n"
     ]
    }
   ],
   "source": [
    "print('np.dot(B, A) =')\n",
    "print(np.dot(B, A))\n",
    "# np.dot(A, B)와 np.dot(B, A)는 다른 결과가 나온다."
   ]
  },
  {
   "cell_type": "code",
<<<<<<< HEAD
   "execution_count": 18,
=======
   "execution_count": 56,
>>>>>>> 3378a7e7a66866ce1136863765cff3a48db9d34a
   "id": "d15fee9b",
   "metadata": {},
   "outputs": [
    {
     "name": "stdout",
     "output_type": "stream",
     "text": [
      "A.shape = (2, 3)\n",
      "\n",
      "B.shape = (3, 2)\n",
      "\n",
      "np.dot(A, B) =\n",
      "[[22 28]\n",
      " [49 64]]\n"
     ]
    }
   ],
   "source": [
    "# 2 x 3 행렬 A와 3 x 2 행렬 B의 내적\n",
    "A = np.array([[1,2,3], [4,5,6]])\n",
    "print(\"A.shape =\", A.shape)\n",
    "print()\n",
    "B = np.array([[1,2], [3,4], [5,6]])\n",
    "print(\"B.shape =\", B.shape)\n",
    "print()\n",
    "print('np.dot(A, B) =')\n",
    "print(np.dot(A, B))"
   ]
  },
  {
   "cell_type": "markdown",
   "id": "1b2798bd",
   "metadata": {},
   "source": [
    "행렬의 내적을 할 때 행렬의 형상에 주의해야한다.<br>\n",
    "행렬 A의 1번째 차원의 원소 수(열 수)와 행렬 B의 0번째 차원의 원소 수(행 수)가 같아야 한다.<br>\n",
    "2 x **3**, **3** x 2 굵은 수가 같아야함. 그렇지 않으면 아래 코드처럼 에러를 일으킴. 아래 코드는 2 x **3**, **2** x 2 의 내적 "
   ]
  },
  {
   "cell_type": "code",
<<<<<<< HEAD
   "execution_count": 19,
=======
   "execution_count": 57,
>>>>>>> 3378a7e7a66866ce1136863765cff3a48db9d34a
   "id": "77983ad8",
   "metadata": {},
   "outputs": [
    {
     "name": "stdout",
     "output_type": "stream",
     "text": [
      "C.shape = (2, 2)\n",
      "\n",
      "A.shape = (2, 3)\n",
      "\n",
      "np.dot(A, C) =\n"
     ]
    },
    {
     "ename": "ValueError",
     "evalue": "shapes (2,3) and (2,2) not aligned: 3 (dim 1) != 2 (dim 0)",
     "output_type": "error",
     "traceback": [
      "\u001b[1;31m---------------------------------------------------------------------------\u001b[0m",
      "\u001b[1;31mValueError\u001b[0m                                Traceback (most recent call last)",
<<<<<<< HEAD
      "Input \u001b[1;32mIn [19]\u001b[0m, in \u001b[0;36m<cell line: 8>\u001b[1;34m()\u001b[0m\n\u001b[0;32m      6\u001b[0m \u001b[38;5;28mprint\u001b[39m()\n\u001b[0;32m      7\u001b[0m \u001b[38;5;28mprint\u001b[39m(\u001b[38;5;124m'\u001b[39m\u001b[38;5;124mnp.dot(A, C) =\u001b[39m\u001b[38;5;124m'\u001b[39m)\n\u001b[1;32m----> 8\u001b[0m \u001b[38;5;28mprint\u001b[39m(\u001b[43mnp\u001b[49m\u001b[38;5;241;43m.\u001b[39;49m\u001b[43mdot\u001b[49m\u001b[43m(\u001b[49m\u001b[43mA\u001b[49m\u001b[43m,\u001b[49m\u001b[43m \u001b[49m\u001b[43mC\u001b[49m\u001b[43m)\u001b[49m)\n",
=======
      "Input \u001b[1;32mIn [57]\u001b[0m, in \u001b[0;36m<cell line: 8>\u001b[1;34m()\u001b[0m\n\u001b[0;32m      6\u001b[0m \u001b[38;5;28mprint\u001b[39m()\n\u001b[0;32m      7\u001b[0m \u001b[38;5;28mprint\u001b[39m(\u001b[38;5;124m'\u001b[39m\u001b[38;5;124mnp.dot(A, C) =\u001b[39m\u001b[38;5;124m'\u001b[39m)\n\u001b[1;32m----> 8\u001b[0m \u001b[38;5;28mprint\u001b[39m(\u001b[43mnp\u001b[49m\u001b[38;5;241;43m.\u001b[39;49m\u001b[43mdot\u001b[49m\u001b[43m(\u001b[49m\u001b[43mA\u001b[49m\u001b[43m,\u001b[49m\u001b[43m \u001b[49m\u001b[43mC\u001b[49m\u001b[43m)\u001b[49m)\n",
>>>>>>> 3378a7e7a66866ce1136863765cff3a48db9d34a
      "File \u001b[1;32m<__array_function__ internals>:180\u001b[0m, in \u001b[0;36mdot\u001b[1;34m(*args, **kwargs)\u001b[0m\n",
      "\u001b[1;31mValueError\u001b[0m: shapes (2,3) and (2,2) not aligned: 3 (dim 1) != 2 (dim 0)"
     ]
    }
   ],
   "source": [
    "C = np.array([[1,2], [3,4]])\n",
    "print(\"C.shape =\", C.shape)\n",
    "print()\n",
    "\n",
    "print(\"A.shape =\", A.shape)\n",
    "print()\n",
    "print('np.dot(A, C) =')\n",
    "print(np.dot(A, C))"
   ]
  },
  {
   "cell_type": "markdown",
   "id": "3fed3dec",
   "metadata": {},
   "source": [
    "즉, 다차원 배열을 곱하려면 두 행렬의 대응하는 차원의 원소 수를 일치시켜야 한다.<br>\n",
    "<img src=\"https://img1.daumcdn.net/thumb/R1280x0/?scode=mtistory2&fname=https%3A%2F%2Fblog.kakaocdn.net%2Fdn%2FdoOuZb%2FbtqC6PgeJaT%2FK8apAUAHHRtxesgwz1YK31%2Fimg.png\"  width=\"400px\" height=\"600px\"></img><br>\n",
    "계산 결과인 행렬 C의 형상은 행렬 A의 행 수와 행렬 B의 열 수가 된다.<br>\n",
    "\n",
    "A가 2차원 행렬이고 B가 1차원 배열일 때도 '대응하는 차원의 원소 수를 일치시켜라'는 원칙은 똑같이 적용된다.<br>\n",
    "<img src=\"https://img1.daumcdn.net/thumb/R1280x0/?scode=mtistory2&fname=https%3A%2F%2Fblog.kakaocdn.net%2Fdn%2FcvMAkd%2FbtqC5owHZ7H%2Fm1BMaaJqkz48cKkGokgu1k%2Fimg.png\"  width=\"400px\" height=\"600px\"></img><br>"
   ]
  },
  {
   "cell_type": "code",
   "execution_count": null,
   "id": "1997baaa",
   "metadata": {},
   "outputs": [],
   "source": [
    "A = np.array([[1,2], [3,4], [5,6]])\n",
    "print(A.shape)\n",
    "print()\n",
    "B = np.array([7,8])\n",
    "print(B.shape)\n",
    "print()\n",
    "print('np.dot(A, B) =')\n",
    "print(np.dot(A, B))"
   ]
  },
  {
   "cell_type": "markdown",
   "id": "356ee261",
   "metadata": {},
   "source": [
    "## 3.3.3 신경망의 내적\n",
    "<img src=\"https://img1.daumcdn.net/thumb/R1280x0/?scode=mtistory2&fname=https%3A%2F%2Fblog.kakaocdn.net%2Fdn%2F83vAA%2FbtqC5ph5RHE%2FprdM2u39LgKlUu7hl8cNUK%2Fimg.png\"  width=\"600px\" height=\"600px\"></img><br>\n",
    "위 그림의 신경망을 구현해보자. 이 신경망은 편향과 활성화 함수를 생략하고 가중치만 갖는다."
   ]
  },
  {
   "cell_type": "code",
   "execution_count": null,
   "id": "22596a1c",
   "metadata": {},
   "outputs": [],
   "source": [
    "X = np.array([1,2])\n",
    "print('X.shape =', X.shape)\n",
    "print()\n",
    "\n",
    "W = np.array([[1,3,5], [2,4,6]])\n",
    "print('W =')\n",
    "print(W)\n",
    "print()\n",
    "print('W.shape =', W.shape)\n",
    "print()\n",
    "\n",
    "Y = np.dot(X, W)\n",
    "print('Y =')\n",
    "print(Y)"
   ]
  },
  {
   "cell_type": "markdown",
   "id": "d4cc85a7",
   "metadata": {},
   "source": [
    "# 3.4 3층 신경망 구현하기"
   ]
  },
  {
   "cell_type": "markdown",
   "id": "af364a10",
   "metadata": {},
   "source": [
    "## 3.4.1 표기법 설명\n",
    "<img src=\"https://img1.daumcdn.net/thumb/R1280x0/?scode=mtistory2&fname=https%3A%2F%2Fblog.kakaocdn.net%2Fdn%2FbdgY2b%2FbtqDx5JpZKI%2FAKelmdI0BmuMQwsmybASS0%2Fimg.png\"  width=\"400px\" height=\"400px\"></img><br>\n",
    "<br>\n",
    "## 3.4.2 각 층의 신호 전달 구현하기\n",
    "<img src=\"https://img1.daumcdn.net/thumb/R1280x0/?scode=mtistory2&fname=https%3A%2F%2Fblog.kakaocdn.net%2Fdn%2Fbh96AU%2FbtqDvZD629m%2F5zEAoc7oxC70KM7jpkfX41%2Fimg.png\"  width=\"400px\" height=\"400px\"></img><br>\n",
    "위 그림과 같이 편향을 뜻하는 뉴런인 **1**이 추가되었다. <br>\n",
    "지금까지 배운 내용을 토대로 a(1)1을 수식으로 나타내자.<br>\n",
    "<img src=\"https://img1.daumcdn.net/thumb/R1280x0/?scode=mtistory2&fname=https%3A%2F%2Fblog.kakaocdn.net%2Fdn%2F4V9NQ%2FbtqDEE6gxJg%2FK0SVwj3IcChBkdKJCMeXtk%2Fimg.png\"  width=\"300px\" height=\"300px\"></img><br>\n",
    "여기서 행렬의 내적을 이용하여 간소화해보자.<br>\n",
    "<img src=\"https://img1.daumcdn.net/thumb/R1280x0/?scode=mtistory2&fname=https%3A%2F%2Fblog.kakaocdn.net%2Fdn%2FryxtA%2FbtqDCad2q0J%2FmsokAdBX3GNsueYEbkkO00%2Fimg.png\"  width=\"300px\" height=\"300px\"></img><br>\n",
    " "
   ]
  },
  {
   "cell_type": "code",
   "execution_count": null,
   "id": "dd4fd7cd",
   "metadata": {},
   "outputs": [],
   "source": [
    "import numpy as np\n",
    "\n",
    "X = np.array([1.0, 0.5])\n",
    "W1 = np.array([[0.1, 0.3, 0.5], [0.2, 0.4, 0.6]])\n",
    "B1 = np.array([0.1, 0.2, 0.3])\n",
    "\n",
    "print(W1.shape)\n",
    "print(X.shape)\n",
    "print(B1.shape)\n",
    "\n",
    "A1 = np.dot(X, W1) + B1\n",
    "print(A1)"
   ]
  },
  {
   "cell_type": "markdown",
   "id": "d6a9ca33",
   "metadata": {},
   "source": [
    "이어서 활성화 함수 에서의 처리를 살펴보자.<br>\n",
    "<img src=\"https://img1.daumcdn.net/thumb/R1280x0/?scode=mtistory2&fname=https%3A%2F%2Fblog.kakaocdn.net%2Fdn%2Fr3rlS%2FbtqDDXZDoup%2FIYOE65uzZHtqwUWaIBOHi0%2Fimg.png\"  width=\"500px\" height=\"500px\"></img><br>\n",
    "은닉층에서의 가중치 합(가중 신호와 편향의 총합)을 a로 표기하고 활성화 함수 h()로 변환된 신호를 z로 표기한다. 여기서 활성화 함수는 시그모이드를 사용하기로한다."
   ]
  },
  {
   "cell_type": "code",
   "execution_count": null,
   "id": "ca598b19",
   "metadata": {},
   "outputs": [],
   "source": [
    "def sigmoid(x):\n",
    "    return 1 / (1 + np.exp(-x))"
   ]
  },
  {
   "cell_type": "code",
   "execution_count": null,
   "id": "02dab2e4",
   "metadata": {},
   "outputs": [],
   "source": [
    "Z1 = sigmoid(A1)\n",
    "\n",
    "print(Z1)"
   ]
  },
  {
   "cell_type": "markdown",
   "id": "582943d5",
   "metadata": {},
   "source": [
    "이어서 1층에서 2층으로 가는 과정과 그 구현을 살펴보자.<br>\n",
    "<img src=\"https://img1.daumcdn.net/thumb/R1280x0/?scode=mtistory2&fname=https%3A%2F%2Fblog.kakaocdn.net%2Fdn%2FcA4NsK%2FbtqDGfSioqW%2FP4NzGdwV7bxwWzGLdxyuMK%2Fimg.png\"  width=\"500px\" height=\"500px\"></img><br>"
   ]
  },
  {
   "cell_type": "code",
   "execution_count": null,
   "id": "836e9b3e",
   "metadata": {},
   "outputs": [],
   "source": [
    "W2 = np.array([[0.1, 0.4], [0.2, 0.5], [0.3, 0.6]])\n",
    "B2 = np.array([0.1, 0.2])\n",
    "\n",
    "print(Z1.shape)\n",
    "print(W2.shape)\n",
    "print(B2.shape)\n",
    "\n",
    "A2 = np.dot(Z1, W2) + B2\n",
    "Z2 = sigmoid(A2)\n",
    "\n",
    "print(A2)\n",
    "print(Z2)"
   ]
  },
  {
   "cell_type": "markdown",
   "id": "b2a98ccd",
   "metadata": {},
   "source": [
    "2층에서 출력층으로의 신호 전달을 하자.\n",
    "<img src=\"https://img1.daumcdn.net/thumb/R1280x0/?scode=mtistory2&fname=https%3A%2F%2Fblog.kakaocdn.net%2Fdn%2FcqjATn%2FbtqDF0ODd4N%2Fc1vlCWrtCxlYeywnaSRHM0%2Fimg.png\"  width=\"500px\" height=\"500px\"></img><br>"
   ]
  },
  {
   "cell_type": "code",
   "execution_count": null,
   "id": "92a2def6",
   "metadata": {},
   "outputs": [],
   "source": [
    "def identity_function(x):\n",
    "    return x\n",
    "\n",
    "\n",
    "W3 = np.array([[0.1, 0.3], [0.2, 0.4]])\n",
    "B3 = np.array([0.1, 0.2])\n",
    "\n",
    "A3 = np.dot(Z2, W3) + B3\n",
    "Y = identity_function(A3)\n",
    "\n",
    "print(A3)\n",
    "print(Y)\n",
    "\n",
    "# 여기서는 항등함수인 identity_function()을 정의하고 이를 활성화 함수로 이용했다."
   ]
  },
  {
   "cell_type": "markdown",
   "id": "c610a6c8",
   "metadata": {},
   "source": [
    "## 3.4.3 구현 정리 "
   ]
  },
  {
   "cell_type": "code",
   "execution_count": null,
   "id": "e80db0b8",
   "metadata": {},
   "outputs": [],
   "source": [
    "def init_network():\n",
    "    network = {}    # 딕셔너리 \n",
    "    network['W1'] = np.array([[0.1, 0.3, 0.5], [0.2, 0.4, 0.6]])\n",
    "    network['B1'] = np.array([0.1, 0.2, 0.3])\n",
    "    network['W2'] = np.array([[0.1, 0.4], [0.2, 0.5], [0.3, 0.6]])\n",
    "    network['B2'] = np.array([0.1, 0.2])\n",
    "    network['W3'] = np.array([[0.1, 0.3], [0.2, 0.4]])\n",
    "    network['B3'] = np.array([0.1, 0.2])\n",
    "    \n",
    "    return network\n",
    "\n",
    "def forward(network, x):\n",
    "    W1, W2, W3 = network['W1'], network['W2'], network['W3']\n",
    "    B1, B2, B3 = network['B1'], network['B2'], network['B3']\n",
    "    \n",
    "    A1 = np.dot(x, W1) + B1\n",
    "    Z1 = sigmoid(A1)\n",
    "    A2 = np.dot(Z1, W2) + B2\n",
    "    Z2 = sigmoid(A2)\n",
    "    A3 = np.dot(Z2, W3) + B3\n",
    "    Y = identity_function(A3)\n",
    "    \n",
    "    return Y\n",
    "\n",
    "network = init_network()\n",
    "x = np.array([1.0, 0.5])\n",
    "y = forward(network, x)\n",
    "\n",
    "print(y)"
   ]
  },
  {
   "cell_type": "markdown",
   "id": "b4cd2f4a",
   "metadata": {},
   "source": [
    "# 3.5 출력층 설계하기\n",
    "신경망은 분류와 회귀 모두에 이용할 수 있다. 다만 둘 중 어던 문제냐에 따라 출력층에서 사용하는 활성화 함수가 달라진다.<br>\n",
    "일반적으로 회귀에는 항등함수를, 분류에는 소프트맥스 함수를 사용한다.<br>\n",
    "## 3.5.1 항등 함수와 소프트맥스 함수 구현하기\n",
    "**항등 함수**는 입력을 그대로 출력한다. <br>\n",
    "<img src=\"https://img1.daumcdn.net/thumb/R1280x0/?scode=mtistory2&fname=https%3A%2F%2Fblog.kakaocdn.net%2Fdn%2FDlvpA%2FbtqDCbj08aC%2FPRIiHXqyD2GtuxicYnh3Yk%2Fimg.png\"  width=\"200px\" height=\"200px\"></img><br>\n",
    "분류에서 사용하는 **소프트맥스** 함수의 식은 다음과 같다.\n",
    "<img src=\"https://img1.daumcdn.net/thumb/R1280x0/?scode=mtistory2&fname=https%3A%2F%2Fblog.kakaocdn.net%2Fdn%2Fwel98%2FbtqDDv3oc8h%2FWGxVOd55H5ut3rZcAm7d61%2Fimg.png\"  width=\"200px\" height=\"200px\"></img><br>\n",
    "exp(x)는 e^x을 뜻하는 지수 함수이다.(e는 자연상수) n은 출력층의 뉴런 수, y_k는 그중 k번째 출력임을 뜻한다.<br>\n",
    "소프트맥스 함수를 그림으로 나타내면 <br>\n",
    "<img src=\"https://img1.daumcdn.net/thumb/R1280x0/?scode=mtistory2&fname=https%3A%2F%2Fblog.kakaocdn.net%2Fdn%2FbflrEy%2FbtqDDw82X0O%2FH7vU7vKVK1RjIeHSXb2ZVK%2Fimg.png\"  width=\"200px\" height=\"200px\"></img><br>\n",
    "이 된다.<br>\n",
    "소프트맥스의 출력은 모든 입력 신호로부터 화살표를 받는다. 식의 분모에서 보듯, 출력층의 각 뉴런이 모든 입력 신호에서 영향을 받기 때문이다."
   ]
  },
  {
   "cell_type": "code",
   "execution_count": null,
   "id": "86d2e30a",
   "metadata": {},
   "outputs": [],
   "source": [
    "a = np.array([0.3, 2.9, 4.0])\n",
    "exp_a = np.exp(a)    #지수 함수\n",
    "print(exp_a)"
   ]
  },
  {
   "cell_type": "code",
   "execution_count": null,
   "id": "d4814a42",
   "metadata": {},
   "outputs": [],
   "source": [
    "sum_exp_a = np.sum(exp_a)    #지수 함수의 합\n",
    "print(sum_exp_a)"
   ]
  },
  {
   "cell_type": "code",
   "execution_count": null,
   "id": "778b9dd8",
   "metadata": {},
   "outputs": [],
   "source": [
    "y = exp_a / sum_exp_a\n",
    "print(y)"
   ]
  },
  {
   "cell_type": "code",
   "execution_count": null,
   "id": "0902bd37",
   "metadata": {},
   "outputs": [],
   "source": [
    "# 위 과정을 함수로 나타낸다.\n",
    "def softmax(a):\n",
    "    exp_a = np.exp(a)\n",
    "    sum_exp_a = np.sum(exp_a)\n",
    "    y = exp_a / sum_exp_a\n",
    "    \n",
    "    return y"
   ]
  },
  {
   "cell_type": "markdown",
   "id": "33459a20",
   "metadata": {},
   "source": [
    "## 3.5.2 소프트맥스 함수 구현 시 주의점\n",
    "위에서 구현한 softmax() 함수의 코드는 소프트맥스 식을 제대로 표현하고 있지만 컴퓨터로 계산할 때는 결함이 있다. 바로 오버플로 문제이다.<br>\n",
    "소프트맥스 함수는 지수 함수를 사용하는데, 지수 함수란 것이 쉽게 아주 큰 값을 내뱉는다. 가령 e^10은 20,000이 넘고, e^100은 0이 40개 넘는 큰값이 되고, e^1000은 무한대를 뜻하는 inf가 되어 돌아온다. 그리고 이런 큰 값끼리 나눗셈을 하면 결과 수치가 '불안정'해진다.<br>\n",
    "이 문제를 해결하도록 소프트맥스 함수 구현을 개선해보자.<br>\n",
    "\n",
    "<img src=\"https://img1.daumcdn.net/thumb/R1280x0/?scode=mtistory2&fname=https%3A%2F%2Fblog.kakaocdn.net%2Fdn%2Fd2SUu7%2FbtqDFoWxOxj%2FIKkXEvfjsZqzE48LYBdFKk%2Fimg.png\"  width=\"400px\" height=\"400px\"></img><br>\n",
    "위 식에서 말하는 것은 소프트맥스의 지수 함수를 계산할 때 어떤 정수를 더해도(혹은 빼도) 결과는 바뀌지 않는다는 것이다.<br>\n",
    "여기서 C'에 어떤 값을 대입해도 상관없지만, 오버플로를 막을 목적으로는 입력 신호 중 최댓값을 이용하는 것이 일반적이다."
   ]
  },
  {
   "cell_type": "code",
   "execution_count": null,
   "id": "60e1ee62",
   "metadata": {},
   "outputs": [],
   "source": [
    "a = np.array([1010, 1000, 990])\n",
    "np.exp(a) / np.sum(np.exp(a))"
   ]
  },
  {
   "cell_type": "markdown",
   "id": "514173de",
   "metadata": {},
   "source": [
    "위 예에서 보는 것처럼 아무런 조치 없이 그냥 계산하면 nan이 출력된다.(오버플로 발생)"
   ]
  },
  {
   "cell_type": "code",
   "execution_count": null,
   "id": "c062a987",
   "metadata": {},
   "outputs": [],
   "source": [
    "c = np.max(a)    # c는 1010\n",
    "a - c"
   ]
  },
  {
   "cell_type": "code",
   "execution_count": null,
   "id": "29f8b568",
   "metadata": {},
   "outputs": [],
   "source": [
    "np.exp(a - c) / np.sum(np.exp(a - c))"
   ]
  },
  {
   "cell_type": "markdown",
   "id": "06f844e9",
   "metadata": {},
   "source": [
    "하지만 입력 신호 중 최댓값(이 예에서는 c)을 빼주면 올바르게 계산할 수 있다. 이를 바탕으로 소프트맥스 함수를 다시 구현하면 다음과 같다."
   ]
  },
  {
   "cell_type": "code",
   "execution_count": null,
   "id": "c734e738",
   "metadata": {},
   "outputs": [],
   "source": [
    "def softmax(a):\n",
    "    c = np.max(a)\n",
    "    exp_a = np.exp(a - c)    # 오버플로 대책\n",
    "    sum_exp_a = np.sum(exp_a)\n",
    "    y = exp_a / sum_exp_a\n",
    "    \n",
    "    return y"
   ]
  },
  {
   "cell_type": "markdown",
   "id": "4d443f2d",
   "metadata": {},
   "source": [
    "## 3.5.3 소프트맥스 함수의 특징"
   ]
  },
  {
   "cell_type": "code",
   "execution_count": null,
   "id": "b0a77c0a",
   "metadata": {},
   "outputs": [],
   "source": [
    "a = np.array([0.3, 2.9, 4.0])\n",
    "y = softmax(a)\n",
    "print(y)\n",
    "print(np.sum(y))"
   ]
  },
  {
   "cell_type": "markdown",
   "id": "457c0118",
   "metadata": {},
   "source": [
    "위 코드에서처럼 소프트맥스 함수의 출력은 0에서 1.0사이의 실수이다. 또, 소프트맥스 함수 출력의 총합은 1이다.<br>\n",
    "이 성질 덕분에 소프트맥스 함수의 출력을 '확률'로 해석할 수 있다.<br><br>\n",
    "위 코드에서 y[0]의 확률은 0.018(1.8%), y[1]의 확률은 0.245(24.5%), y[2]의 확률은 0.737(73.7%)로 해석할 수 있다. 그리고 이 결과 확률들로부터 **두번째 원소(y[2])의 확률이 가장 높으니, 답은 두번째 클래스다**라고 할 수 있다. 혹은 **74%의 확률로 두번째 클래스, 25%의 확률로 첫번째 클래스, 1%의 확률로 0번째 클래스다**와 같이 확률적인 결론도 낼 수 있다.<br><br>\n",
    "소프트맥스 함수를 적용하기 전과 적용한 후의 원소의 대소 관계는 변하지 않는다. 위 예제에서 보면 소프트맥스를 적용하기 전(a)과 후(y)의 확률(비중이 있는 순서?)은 변하지 않는다.<br><br>\n",
    "결과적으로 신경망으로 분류할 때는 출력층의 소프트맥스 함수를 생략해도 된다. 현업에서도 지수 함수 계산에 드는 자원 낭비를 줄이고자 출력층의 소프트맥스 함수는 생략하는 것이 일반적이다."
   ]
  },
  {
   "cell_type": "markdown",
   "id": "796097ce",
   "metadata": {},
   "source": [
    "## 3.5.4 출력층의 뉴런 수 정하기\n",
    "출력층의 뉴런 수는 풀려는 문제에 맞게 적절히 정해야한다. 분류에서는 분류하고 싶은 클래스 수로 설정하는 것이 일반적이다. 예를 들어 입력 이미지를 숫자 0부터 9 중 하나로 분류한다면 출력층의 뉴련을 10개로 설정한다.<br>\n",
    "<img src=\"https://img1.daumcdn.net/thumb/R1280x0/?scode=mtistory2&fname=https%3A%2F%2Fblog.kakaocdn.net%2Fdn%2Fw7H76%2FbtqDGhpF7ya%2FSRLa4CsKVgvoez4EEtu7Yk%2Fimg.png\"  width=\"400px\" height=\"400px\"></img><br>\n",
    "위 그림에서 뉴런의 회색 농도가 해당 뉴런의 출력값을 의미한다. 위 그림에서는 색이 가장 짙은 y2뉴런이 가장 큰 값을 출력한다. 그래서 이 신경망이 서낵한 클래스는 y2, 즉 입력 이미지를 숫자 **2**로 판단했음을 의미한다."
   ]
  },
  {
   "cell_type": "markdown",
   "id": "eed0d040",
   "metadata": {},
   "source": [
<<<<<<< HEAD
    "# 3.6 손글씨 숫자 인식\n",
    " 이번 절에서는 이미 학습된 매개변수를 사용하여 학습 과정은 생략하고, 추론 과정만 구현할 것이다. 이 추론 과정을 신경망의 **순전파**라고도 한다.<BR><BR>\n",
    " 기계학습과 마찬가지로 신경망도 두 단계를 거쳐 문제를 해결한다. 먼저 훈련 데이터(학습 데이터)를 사용해 가중치 매개변수를 학습하고, 추론 단계에서는 앞서 학습한 매개변수를 사용하여 입력 데이터를 분류한다."
   ]
  },
  {
   "cell_type": "markdown",
   "id": "a7a9c5e8",
   "metadata": {},
   "source": [
    "## 3.6.1 MNIST 데이터셋\n",
    "MNIST 데이터셋은 0부터 9까지의 숫자 이미지로 구성된다. MNIST 데이터셋의 이미지 데이터는 28 x 28 크기의 회색조 이미지(1채널)이며, 각 픽셀은 0에서 255까지의 값을 취한다. 각 이미지에는 또한 '7', '2', '1'과 같이 그 이미지가 실제 의미하는 숫자가 레이블로 붙어있다. "
   ]
  },
  {
   "cell_type": "code",
   "execution_count": 26,
   "id": "7e6fb9ce",
   "metadata": {},
   "outputs": [
    {
     "name": "stdout",
     "output_type": "stream",
     "text": [
      "Downloading train-images-idx3-ubyte.gz ... \n",
      "Done\n",
      "Downloading train-labels-idx1-ubyte.gz ... \n",
      "Done\n",
      "Downloading t10k-images-idx3-ubyte.gz ... \n",
      "Done\n",
      "Downloading t10k-labels-idx1-ubyte.gz ... \n",
      "Done\n",
      "Converting train-images-idx3-ubyte.gz to NumPy Array ...\n",
      "Done\n",
      "Converting train-labels-idx1-ubyte.gz to NumPy Array ...\n",
      "Done\n",
      "Converting t10k-images-idx3-ubyte.gz to NumPy Array ...\n",
      "Done\n",
      "Converting t10k-labels-idx1-ubyte.gz to NumPy Array ...\n",
      "Done\n",
      "Creating pickle file ...\n",
      "Done!\n",
      "(60000, 784)\n",
      "(60000,)\n",
      "(10000, 784)\n",
      "(10000,)\n"
     ]
    }
   ],
   "source": [
    "import sys, os\n",
    "sys.path.append(os.pardir)    # 부모 디렉터리의 파일을 가져올 수 있도록 설정\n",
    "from dataset.mnist import load_mnist\n",
    "\n",
    "(x_train, t_train), (x_test, t_test) = load_mnist(flatten=True, normalize=False)\n",
    "\n",
    "# 각 데이터의 형상 출력\n",
    "print(x_train.shape)\n",
    "print(t_train.shape)\n",
    "print(x_test.shape)\n",
    "print(t_test.shape)"
=======
    "# 3.6 손글씨 숫자 인식"
>>>>>>> 3378a7e7a66866ce1136863765cff3a48db9d34a
   ]
  },
  {
   "cell_type": "code",
   "execution_count": null,
<<<<<<< HEAD
   "id": "54217875",
=======
   "id": "27e67ca1",
>>>>>>> 3378a7e7a66866ce1136863765cff3a48db9d34a
   "metadata": {},
   "outputs": [],
   "source": []
  }
 ],
 "metadata": {
  "kernelspec": {
   "display_name": "Python 3 (ipykernel)",
   "language": "python",
   "name": "python3"
  },
  "language_info": {
   "codemirror_mode": {
    "name": "ipython",
    "version": 3
   },
   "file_extension": ".py",
   "mimetype": "text/x-python",
   "name": "python",
   "nbconvert_exporter": "python",
   "pygments_lexer": "ipython3",
   "version": "3.9.12"
  }
 },
 "nbformat": 4,
 "nbformat_minor": 5
}
