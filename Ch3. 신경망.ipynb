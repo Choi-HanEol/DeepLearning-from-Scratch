{
 "cells": [
  {
   "cell_type": "markdown",
   "id": "ceff271d",
   "metadata": {},
   "source": [
    "# 3.1 퍼셉트론에서 신경망으로"
   ]
  },
  {
   "cell_type": "markdown",
   "id": "bd50d89f",
   "metadata": {},
   "source": [
    "## 3.1.1 신경망의 예\n",
    "신경망은 입력층, 은닉층, 출력층으로 이루어져있다. 은닉층은 사람 눈에는 보이지 않는다.<br>\n",
    "<img src=\"https://sean-parkk.github.io/assets/images/DLscratch/3/Untitled.png\"  width=\"400px\" height=\"400px\"></img><br>\n",
    "위 사진에서는 0층이 입력층, 1층이 은닉층, 2층이 출력층이 된다.<br>\n",
    "\n",
    "### 복습\n",
    "**편향**은 뉴런이 얼마나 쉽게 활성화되느냐를 제어<br>\n",
    "**가중치**는 각 신호의 영향력을 제어<br>\n",
    "<br>\n",
    "## 3.1.3 활성화 함수의 등장\n",
    "<img src=\"https://t1.daumcdn.net/cfile/tistory/99C0EA3D5D68836115\"  width=\"400px\" height=\"400px\"></img><br>\n",
    "위 식에서의 h(x) 처럼 입력 신호의 총합을 출력 신호로 변환하는 함수를 **활성화 함수(activation function)** 라고 한다.<br>\n",
    "입력 신호의 총합이 활성화를 일으키는지를 정하는 역할을 한다.<br><br>\n",
    "### a = b + w1x1 + w2x2\n",
    "### y = h(a)\n",
    "위 식의 처리 과정은 아래와 같다.<br>\n",
    "\n",
    "<img src=\"https://velog.velcdn.com/images%2Fjoo4438%2Fpost%2Fa2d53cc7-446e-419e-a740-b407d26f617b%2Fimage.png\"  width=\"400px\" height=\"400px\"></img><br>\n"
   ]
  },
  {
   "cell_type": "markdown",
   "id": "25472861",
   "metadata": {},
   "source": [
    "# 3.2 활성화 함수"
   ]
  },
  {
   "cell_type": "markdown",
   "id": "fc0a63d1",
   "metadata": {},
   "source": [
    "## 3.2.1 시그모이드 함수\n",
    "<img src=\"https://mblogthumb-phinf.pstatic.net/MjAyMDA3MDdfMTgx/MDAxNTk0MTMwODg2NzAw.Bgt42rm3pV0xTPfuVjN1UbXw9HchDcAdLdvnsrAQvJ0g.ILAv2yJkoMXNiWHKAUe0QswJWyr84GwwlRbXwxCogKUg.PNG.zzoyou_/sigmoid.png?type=w800\"  width=\"400px\" height=\"400px\"></img><br>\n",
    "앞장에서 본 퍼셉트론과 앞으로 볼 신경망의 주된 차이는 이 활성화 함수뿐이다."
   ]
  },
  {
   "cell_type": "markdown",
   "id": "2dc24f48",
   "metadata": {},
   "source": [
    "## 3.2.2 계단 함수 구현하기\n"
   ]
  },
  {
   "cell_type": "code",
   "execution_count": null,
   "id": "d994d73e",
   "metadata": {},
   "outputs": [],
   "source": []
  }
 ],
 "metadata": {
  "kernelspec": {
   "display_name": "Python 3 (ipykernel)",
   "language": "python",
   "name": "python3"
  },
  "language_info": {
   "codemirror_mode": {
    "name": "ipython",
    "version": 3
   },
   "file_extension": ".py",
   "mimetype": "text/x-python",
   "name": "python",
   "nbconvert_exporter": "python",
   "pygments_lexer": "ipython3",
   "version": "3.9.12"
  }
 },
 "nbformat": 4,
 "nbformat_minor": 5
}
