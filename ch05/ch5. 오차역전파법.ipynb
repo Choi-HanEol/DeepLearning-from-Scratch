{
 "cells": [
  {
   "cell_type": "markdown",
   "id": "aa7f4278",
   "metadata": {},
   "source": [
    "# 5.1 계산 그래프\n",
    "## 5.1.1 계산 그래프로 풀다\n",
    "&nbsp;계산 그래프는 계산 과정을 노드와 화살표로 표현한다. 그래프는 복수의 노드와 에지로 표현된다. 다음 문제를 풀어보자<br>\n",
    "**문제:** 현빈 군은 슈퍼에서 사과를 2개, 귤을 3개 샀습니다. 사과 1개에 100원, 귤은 1개 50원입니다. 소비세가 10%일 때 지불 금액을 구하세요.\n",
    " <img src=\"https://img1.daumcdn.net/thumb/R1280x0/?scode=mtistory2&fname=https%3A%2F%2Fblog.kakaocdn.net%2Fdn%2FECAfA%2Fbtq4rI9sNJw%2FK4VP8XFJkJbaONionuOWwk%2Fimg.png\"  width=\"600px\" height=\"600px\"></img><br>\n",
    "그래프에서 계산을 왼쪽에서 오른쪽으로 진행하면 **순전파(forward propagation)**, 반대로 오른쪽에서 왼쪽으로 진행하면 **역전파(backward propagation)**이다.\n",
    "## 5.1.2 국소적 계산\n",
    "&nbsp; 국소적이란 자신과 직접 관계된 작은 범위라는 뜻이다. 국소적 계산은 결국 전체에서 어떤일이 벌어지든 상관없이 자신과 관계된 정보만으로 결과를 출력할 수 있다는 것이다. <br>아래는 국소적 계산의 예이다.\n",
    " <img src=\"https://img1.daumcdn.net/thumb/R1280x0/?scode=mtistory2&fname=https%3A%2F%2Fblog.kakaocdn.net%2Fdn%2FbYYf9U%2Fbtq4rdaMMiq%2FSOzYnRR5Ph5vk3J3JSYk31%2Fimg.png\"  width=\"600px\" height=\"600px\"></img><br>\n",
    "각 노드에서의 계산은 국소적 계산이다. 사과와 그 외의 물품 값을 더하는 계산(4000 + 200 -> 4200)은 4000이라는 숫자가 어떻게 계산되었느냐와는 상관없이, 단지 두 숫자를 더하면 된다. 각 노드는 자신과 관련한 계산 외에는 신경쓸 것이 없다.<br><br>\n",
    "&nbsp;국소적 계산은 복잡한 계산을 단순한 계산으로 쪼개어 다른 단계와는 독립적으로 계산을 수행한다.\n",
    "\n",
    "# 5.2 연쇄법칙\n",
    "## 5.2.1 계산 그래프의 역전파\n",
    "<img src=\"https://img1.daumcdn.net/thumb/R1280x0/?scode=mtistory2&fname=https%3A%2F%2Fblog.kakaocdn.net%2Fdn%2Fpgceg%2Fbtq4p4yS538%2FZMY0o0vYqltqG0eMBhnF9K%2Fimg.png\"  width=\"400px\" height=\"400px\"></img><br>\n",
    "&nbsp;역전파의 계산 절차는 신호 E에 노드의 국소적 미분을 곱한 후 다음 노드로 전달하는 것이다.\n",
    "## 5.2.2 연쇄법칙이란?\n",
    "&nbsp;**합성 함수**란 여러 함수로 구성된 함수이다. 예를 들어 z = (x + y)^2 라는 식은 <br>z = t^2 <br>t = x + y<br>로 두 개의 식으로 구성된다.<br> &nbsp;연쇄법칙은 합성 함수의 미분에 대한 성질이다.<br>**합성 함수의 미분은 합성 함수를 구성하는 각 함수의 미분의 곱으로 나타낼 수 있다.**\n",
    "<img src=\"https://img1.daumcdn.net/thumb/R1280x0/?scode=mtistory2&fname=https%3A%2F%2Fblog.kakaocdn.net%2Fdn%2FcX497u%2Fbtq4oQgMXUI%2FKCBpSZXHF3iTWkXEUMy240%2Fimg.jpg\"  width=\"300px\" height=\"300px\"></img><br>\n",
    "## 5.2.3 연쇄법칙과 계산 그래프\n",
    "<img src=\"https://img1.daumcdn.net/thumb/R1280x0/?scode=mtistory2&fname=https%3A%2F%2Fblog.kakaocdn.net%2Fdn%2Fvt0V9%2Fbtq4wv2xPgL%2F9yiFA73c8yRPDf06jNbaSK%2Fimg.png\"  width=\"900px\" height=\"900px\"></img><br>\n",
    "# 5.3 역전파\n",
    "## 5.3.1 덧셈 노드의 역전파 \n",
    "&nbsp;z = x + y라는 식을 대상으로 역전파를 진행<br><br>\n",
    "dz/dx = 1<br>\n",
    "dz/dy = 1<br>\n",
    "<img src=\"https://img1.daumcdn.net/thumb/R1280x0/?scode=mtistory2&fname=https%3A%2F%2Fblog.kakaocdn.net%2Fdn%2FALdF6%2Fbtq4o7bw6t0%2FmKFdTtk0uSkkl9bkt9aosk%2Fimg.png\"  width=\"700px\" height=\"700px\"></img><br>\n",
    "&nbsp;상류에서 전해진 미분 값을 dL/dz이라 했는데 이는 아래 그림과 같이 최종적으로 L이라는 값을 출력하는 큰 계산 그래프를 가정하기 때문이다. z = x + y 계산은 그 큰 계산 그래프의 중간 어딘가에 존재하고 상류로부터 dL/dz값이 전해진 것이다. <br>\n",
    "dL/dz와 1(dz/dx or dz/dy)을 곱해서 하류로 넘겨준다.\n",
    "<img src=\"https://img1.daumcdn.net/thumb/R1280x0/?scode=mtistory2&fname=https%3A%2F%2Fblog.kakaocdn.net%2Fdn%2FQHqxl%2Fbtq4wv9jSuZ%2FmKpR0h8BJCknEpRkDKT600%2Fimg.png\"  width=\"700px\" height=\"700px\"></img><br>\n",
    "## 5.3.2 곱셈 노드의 역전파\n",
    "&nbsp;z = xy라는 식을 대상으로 역전파 진행 <br><br>\n",
    "dz/dx = y<br>\n",
    "dz/dy = x<br>\n",
    "<img src=\"https://img1.daumcdn.net/thumb/R1280x0/?scode=mtistory2&fname=https%3A%2F%2Fblog.kakaocdn.net%2Fdn%2FbPDIj3%2Fbtq4qET11St%2FaPTgX1y6Dw4Wpz8qiJcm1K%2Fimg.png\"  width=\"700px\" \n",
    "height=\"700px\"></img><br>     \n",
    "곱셈 노드의 역전파는 상류의 값에 순전파 때의 입력 신호들을 '서로 바꾼 값'을 곱해서 하류로 보낸다.\n",
    "dL/dz와 y or x (dz/dx or dz/dy)을 곱해서 하류로 넘겨준다.\n",
    "# 5.4 단순한 계층 구현하기\n",
    "&nbsp;곱셈 노드를 'MulLayer', 덧셈 노드를 'AddLayer'라는 이름으로 구현\n",
    "## 5.4.1 곱셈 계층\n",
    "&nbsp;모든 계층은 forward()와 backward()라는 공통의 메서드(인터페이스)를 갖도록 구현할 것이다. forward()는 순전파, backward()는 역전파를 처리한다. "
   ]
  },
  {
   "cell_type": "code",
   "execution_count": 2,
   "id": "eebfe9e7",
   "metadata": {},
   "outputs": [],
   "source": [
    "class MulLayer:\n",
    "    def __init__(self):\n",
    "        self.x = None\n",
    "        self.y = None\n",
    "        \n",
    "    def forward(self, x, y):\n",
    "        self.x = x\n",
    "        self.y = y\n",
    "        out = x * y\n",
    "        \n",
    "        return out\n",
    "    \n",
    "    def backward(self, dout):\n",
    "        dx = dout * self.y #x와 y를 바꾼다\n",
    "        dy = dout * self.x\n",
    "        \n",
    "        return dx, dy"
   ]
  },
  {
   "cell_type": "markdown",
   "id": "f56e0cc0",
   "metadata": {},
   "source": [
    "곱셈 노드에서의 역전파는 상류에서 넘어온 미분(dout)에 순전파 때의 값을 '서로 바꿔' 곱한 후 하류로 보낸다."
   ]
  },
  {
   "cell_type": "code",
   "execution_count": 3,
   "id": "ef479b47",
   "metadata": {},
   "outputs": [
    {
     "name": "stdout",
     "output_type": "stream",
     "text": [
      "220.00000000000003\n"
     ]
    }
   ],
   "source": [
    "apple = 100\n",
    "apple_num = 2\n",
    "tax = 1.1\n",
    "\n",
    "#계층들\n",
    "mul_apple_layer = MulLayer()\n",
    "mul_tax_layer = MulLayer()\n",
    "\n",
    "#순전파 \n",
    "apple_price = mul_apple_layer.forward(apple, apple_num)\n",
    "price = mul_tax_layer.forward(apple_price, tax)\n",
    "\n",
    "print(price)"
   ]
  },
  {
   "cell_type": "code",
   "execution_count": 4,
   "id": "8bcc108e",
   "metadata": {},
   "outputs": [
    {
     "name": "stdout",
     "output_type": "stream",
     "text": [
      "2.2 110.00000000000001 200\n"
     ]
    }
   ],
   "source": [
    "#역전파\n",
    "dprice = 1\n",
    "dapple_price, dtax = mul_tax_layer.backward(dprice)\n",
    "dapple, dapple_num = mul_apple_layer.backward(dapple_price)\n",
    "\n",
    "print(dapple, dapple_num, dtax)"
   ]
  },
  {
   "cell_type": "markdown",
   "id": "d90ceaef",
   "metadata": {},
   "source": [
    "## 5.4.2 덧셈 계층"
   ]
  },
  {
   "cell_type": "code",
   "execution_count": 5,
   "id": "955bbdfa",
   "metadata": {},
   "outputs": [],
   "source": [
    "class AddLayer:\n",
    "    def __init__(self):\n",
    "        pass\n",
    "        \n",
    "    def forward(self, x, y):\n",
    "        out = x + y\n",
    "        return out\n",
    "\n",
    "    def backward(self, dout):\n",
    "        dx = dout * 1\n",
    "        dy = dout * 1\n",
    "        return dx, dy"
   ]
  },
  {
   "cell_type": "markdown",
   "id": "d921be2c",
   "metadata": {},
   "source": [
    "forward(): 입력받은 두 인수 x, y를 더해서 반환한다.<br>\n",
    "backward(): 상류에서 내려온 미분(dout)을 그대로 하류로 흘린다."
   ]
  },
  {
   "cell_type": "markdown",
   "id": "dcefcb42-35b9-4ab7-a2bc-afe3de11bba6",
   "metadata": {},
   "source": [
    "덧셈 계층과 곱셈 계층을 사용해 사과 2개와 귤 3개를 사는 밑에 그림의 상황을 구현해보자<br>\n",
    "<img src=\"https://compmath.korea.ac.kr/appmath2022/_images/bp_layer_add.png\"  width=\"600px\" height=\"600px\"></img><br>\n"
   ]
  },
  {
   "cell_type": "code",
   "execution_count": 6,
   "id": "872b691e",
   "metadata": {},
   "outputs": [
    {
     "name": "stdout",
     "output_type": "stream",
     "text": [
      "715.0000000000001\n",
      "110.00000000000001 2.2 3.3000000000000003 165.0 650\n"
     ]
    }
   ],
   "source": [
    "apple = 100\n",
    "apple_num = 2\n",
    "orange = 150\n",
    "orange_num = 3\n",
    "tax = 1.1\n",
    "\n",
    "# 계층들\n",
    "mul_apple_layer = MulLayer()\n",
    "mul_orange_layer = MulLayer()\n",
    "add_apple_orange_layer = AddLayer()\n",
    "mul_tax_layer = MulLayer()\n",
    "\n",
    "# 순전파\n",
    "apple_price = mul_apple_layer.forward(apple, apple_num) #(1)\n",
    "orange_price = mul_orange_layer.forward(orange, orange_num) #(2)\n",
    "all_price = add_apple_orange_layer.forward(apple_price, orange_price) #(3)\n",
    "price = mul_tax_layer.forward(all_price, tax) #(4)\n",
    "\n",
    "# 역전파\n",
    "dprice = 1\n",
    "dall_price, dtax = mul_tax_layer.backward(dprice) #(4)\n",
    "dapple_price, dorange_price =  add_apple_orange_layer.backward(dall_price) #(3)\n",
    "dorange, dorange_num = mul_orange_layer.backward(dorange_price) #(2)\n",
    "dapple, dapple_num = mul_apple_layer.backward(dapple_price) #(1)\n",
    "\n",
    "print(price)\n",
    "print(dapple_num, dapple, dorange, dorange_num, dtax)"
   ]
  },
  {
   "cell_type": "markdown",
   "id": "c9198c20",
   "metadata": {},
   "source": [
    "# 5.5 활성화 함수 계층 구현하기"
   ]
  },
  {
   "cell_type": "markdown",
   "id": "d27a3c5c",
   "metadata": {},
   "source": [
    "## 5.5.2 ReLU 계층"
   ]
  },
  {
   "cell_type": "markdown",
   "id": "26341388",
   "metadata": {},
   "source": [
    "<img src=\"https://velog.velcdn.com/images%2Fkimkihoon0515%2Fpost%2F706edd9c-aa40-4a4e-bbf7-e503aafea599%2Fimage.png\"  width=\"500px\" height=\"250px\"></img><br>\n",
    "<img src=\"https://velog.velcdn.com/images%2Fkimkihoon0515%2Fpost%2Ff094bb3f-c425-4390-b715-be429399b5a4%2Fimage.png\"  width=\"500px\" height=\"250px\"></img><br>\n",
    "순전파 때의 입력인 x가 0보다 크면 역전파는 상류의 값을 그대로 하류에 보낸다. <Br>\n",
    "순전파 때의 입력인 x가 0보다 이하면 역전파는 하류로 신호를 보내지 않는다. <Br>"
   ]
  },
  {
   "cell_type": "code",
   "execution_count": 7,
   "id": "c687b366",
   "metadata": {},
   "outputs": [],
   "source": [
    "class Relu:\n",
    "    def __init__(self):\n",
    "        self.mask = None\n",
    "        \n",
    "    def forward(self, x):\n",
    "        self.mask = (x <= 0)\n",
    "        out = x.copy()\n",
    "        out[self.mask] = 0\n",
    "        \n",
    "        return out\n",
    "    \n",
    "    def backward(self, dout):\n",
    "        dout[self.mask] = 0 # dout의 self.mask가 True인 인덱스를 0으로 만듦\n",
    "        dx = dout\n",
    "        \n",
    "        return dx"
   ]
  },
  {
   "cell_type": "code",
   "execution_count": 8,
   "id": "7f8192f9",
   "metadata": {},
   "outputs": [
    {
     "name": "stdout",
     "output_type": "stream",
     "text": [
      "[[ 1.  -0.5]\n",
      " [-2.   3. ]]\n",
      "\n",
      "[[False  True]\n",
      " [ True False]]\n"
     ]
    }
   ],
   "source": [
    "import numpy as np\n",
    "x = np.array([[1.0, -0.5], [-2.0, 3.0]])\n",
    "print(x)\n",
    "print()\n",
    "\n",
    "mask = (x <= 0)\n",
    "print(mask)\n"
   ]
  },
  {
   "cell_type": "markdown",
   "id": "dba2e0c9",
   "metadata": {},
   "source": [
    "## 5.5.2 Sigmoid 계층\n",
    "<img src=\"https://velog.velcdn.com/images%2Fkimkihoon0515%2Fpost%2F7a33d325-5edc-4f32-b80a-62e87d6c1006%2Fimage.png\"  width=\"500px\" height=\"250px\"></img><br>\n",
    "Sigmoid 계층의 계산 그래프(순전파)는 위와 같다.<br>"
   ]
  },
  {
   "cell_type": "markdown",
   "id": "ecf37b84",
   "metadata": {},
   "source": [
    "### 1 단계\n",
    "'/'노드, 즉 y = 1/x 를 미분하면 다음과 같다.<br><br>\n",
    "<img src=\"https://velog.velcdn.com/images%2Fkimkihoon0515%2Fpost%2Fca464272-2ab5-4d72-a982-5c6615ee2bad%2Fimage.png\"  width=\"250px\" height=\"250px\"></img><br><br>\n",
    "역전파 때는 상류에서 흘러온 값에 -y^2(순전파의 출력을 제곱한 후 마이너스를 붙인 값)을 곱해서 하류로 전달한다. <br><br>\n",
    "<img src=\"https://velog.velcdn.com/images%2Fkimkihoon0515%2Fpost%2Fcccb0fc6-f119-4ef5-b4c5-bd1239bdc859%2Fimage.png\"  width=\"700px\" height=\"250px\"></img><br><br>\n"
   ]
  },
  {
   "cell_type": "markdown",
   "id": "5dc75b1a",
   "metadata": {},
   "source": [
    "### 2 단계\n",
    "'+' 노드는 상류의 값을 여과 없이 하류로 내보낸다.<br><br>\n",
    "<img src=\"https://velog.velcdn.com/images%2Fkimkihoon0515%2Fpost%2F54fd0786-e7e8-452a-ad92-cef02204a9cf%2Fimage.png\"  width=\"700px\" height=\"250px\"></img><br><br>\n"
   ]
  },
  {
   "cell_type": "markdown",
   "id": "377766a3",
   "metadata": {},
   "source": [
    "### 3단계\n",
    "'exp' 노드는 y = exp(x) 연산을 수행하며, 그 미분은 다음과 같다.<br><br>\n",
    "<img src=\"https://encrypted-tbn0.gstatic.com/images?q=tbn:ANd9GcQLokcldPWxZRFc43pdGOKaTy2TVPOKFduFgw&s\"  width=\"500px\" height=\"250px\"></img><br><br>\n",
    "계산 그래프에서는 상류의 값에 순전파 때의 출력(이 예에서는 exp(-x))을 곱해 하류로 전달한다.<br><br>\n",
    "<img src=\"https://velog.velcdn.com/images%2Fkimkihoon0515%2Fpost%2Fbc40d0e2-f877-4da6-9d7e-a496e0ea4c76%2Fimage.png\"  width=\"700px\" height=\"250px\"></img><br><br>\n"
   ]
  },
  {
   "cell_type": "markdown",
   "id": "c11e2930",
   "metadata": {},
   "source": [
    "### 4 단계\n",
    "'x' 노드는 순전파 때의 값을 '서로 바꿔' 곱한다.<br><br>\n",
    "<img src=\"https://miro.medium.com/v2/resize:fit:1100/format:webp/1*vj55VOGyOGtBXrNva5sYxQ.png\"  width=\"700px\" height=\"250px\"></img><br><br>"
   ]
  },
  {
   "cell_type": "markdown",
   "id": "85726d5d",
   "metadata": {},
   "source": [
    "이상으로 Sigmoid 계층의 역전파를 계산 그래프로 완료했다. 이 과정을 단순하게 아래와 같이 나타낼 수 있다.<br><br>\n",
    "<img src=\"https://miro.medium.com/v2/resize:fit:828/format:webp/1*pBItjr8TXZzzZX94t-L9QQ.png\"  width=\"700px\" height=\"250px\"></img><br><br>\n",
    "더 나아가 Sigmoid 역전파의 출력값은 아래와 같이 정리된다.<br><br>\n",
    "<img src=\"https://miro.medium.com/v2/resize:fit:1100/format:webp/1*2c1tR8qiYNVU8ahAhctLCQ.png\"  width=\"700px\" height=\"250px\"></img><br><br>\n",
    "<img src=\"https://miro.medium.com/v2/resize:fit:828/format:webp/1*8pK9G6CfrnYmhosUpuWxyA.png\"  width=\"700px\" height=\"250px\"></img><br><br> \n",
    "Sigmoid 계층을 코드로 구현해보자"
   ]
  },
  {
   "cell_type": "code",
   "execution_count": 9,
   "id": "11b8432f",
   "metadata": {},
   "outputs": [],
   "source": [
    "class Sigmoid:\n",
    "    def __init__(self):\n",
    "        self.out = None\n",
    "\n",
    "    def forward(self, x):\n",
    "        self.out = 1 / (1 + np.exp(-x))\n",
    "        out = self.out\n",
    "        return out\n",
    "\n",
    "    def backward(self, dout):\n",
    "        dx = dout * self.out * (1 - self.out)\n",
    "        return dx"
   ]
  },
  {
   "cell_type": "markdown",
   "id": "7c587105",
   "metadata": {},
   "source": [
    "# 5.6 Affine/Softmax 계층 구현하기"
   ]
  },
  {
   "cell_type": "markdown",
   "id": "efc00ba3",
   "metadata": {},
   "source": [
    "## 5.6.1 Affine 계층\n",
    "신경망의 순전파에서는 가중치 신호의 총합을 계산하기 때문에 행렬의 내적(넘파이에서는 np.dot())을 사용했다."
   ]
  },
  {
   "cell_type": "code",
   "execution_count": 11,
   "id": "c393bf96",
   "metadata": {},
   "outputs": [
    {
     "name": "stdout",
     "output_type": "stream",
     "text": [
      "(2,)\n",
      "(2, 3)\n",
      "(3,)\n",
      "[1.46506686 1.81576824 0.72815473]\n"
     ]
    }
   ],
   "source": [
    "X = np.random.rand(2) # 입력\n",
    "W = np.random.rand(2, 3) # 가중치\n",
    "B = np.random.rand(3) # 편향\n",
    "\n",
    "print(X.shape)\n",
    "print(W.shape)\n",
    "print(B.shape)\n",
    "\n",
    "Y = np.dot(X, W) + B\n",
    "\n",
    "print(Y)"
   ]
  },
  {
   "cell_type": "markdown",
   "id": "092860af",
   "metadata": {},
   "source": [
    "행렬의 내적은 차원의 원소 수를 일치시키는 게 핵심이다.<Br><BR>\n",
    "<img src=\"https://img1.daumcdn.net/thumb/R1280x0/?scode=mtistory2&fname=https%3A%2F%2Fblog.kakaocdn.net%2Fdn%2FqrU3W%2FbtqCrjDfKEM%2F9f1GtWxb22qMLYqe8URve0%2Fimg.png\"  width=\"700px\" height=\"250px\"></img><br><br> \n",
    "신경망의 순전파 때 수행하는 행렬의 내적은 기하학에서는 어파인 변환(affine transformation)이라고 한다. 이 책에서는 어파인 변환을 수행하는 처리를 'Affine 계층'이라는 이름으로 구현한다.<br><br>\n",
    "<img src=\"https://img1.daumcdn.net/thumb/R1280x0/?scode=mtistory2&fname=https%3A%2F%2Fblog.kakaocdn.net%2Fdn%2Fc1sdRF%2FbtqZ4AIXj0r%2FErfuZFksbr89toA3qRt2Zk%2Fimg.png\"  width=\"700px\" height=\"250px\"></img><br><br> \n",
    "어파인 계층의 순전파는 위와 같다. \n",
    "\n",
    "<img src=\"https://img1.daumcdn.net/thumb/R1280x0/?scode=mtistory2&fname=https%3A%2F%2Fblog.kakaocdn.net%2Fdn%2Fb38TTs%2Fbtq0efJLhR1%2FijllTc3h61dL0h1t1LR3D0%2Fimg.png\"  width=\"700px\" height=\"250px\"></img><br><br> \n",
    "어파인 계층의 역전파는 위와 같다.<br>\n",
    "dot의 역전파는 곱셈의 역전파처럼 서로 바꿔 곱하는 것 같은데 이때 전치(T)를 하고 진행하는듯하다.\n"
   ]
  },
  {
   "cell_type": "markdown",
   "id": "1c08115e",
   "metadata": {},
   "source": [
    "## 5.6.2 배치용 Affine 계층\n",
    "데이터 N개를 묶어 순전파하는 경우, 즉 배치용 Affine 계층을 생각해보자(묶은 데이터를 '배치'라고 부른다.)<br><br>\n",
    "<img src=\"https://velog.velcdn.com/images%2Fkimkihoon0515%2Fpost%2F78da8c8d-e61a-4f10-8c79-d0b952cbca18%2Fimage.png\"  width=\"700px\" height=\"250px\"></img><br><br> \n",
    "X의 형상이 (N, 2)가 된 것뿐이다. <br>\n",
    "편향을 더할 때도 주의해야한다. 순전파 때의 편향 덧셈은 X·Y에 대한 편향이 각 데이터에 더해진다. 예를 들어 N = 2(데이터가 2개)로 한 경우, 편향은 그 두 데이터 각각에(각각의 계산 결과에) 더해진다."
   ]
  },
  {
   "cell_type": "code",
   "execution_count": 13,
   "id": "c84eeb92",
   "metadata": {},
   "outputs": [
    {
     "name": "stdout",
     "output_type": "stream",
     "text": [
      "[[ 0  0  0]\n",
      " [10 10 10]]\n",
      "\n",
      "[[ 1  2  3]\n",
      " [11 12 13]]\n"
     ]
    }
   ],
   "source": [
    "X_dot_W = np.array([[0, 0, 0], [10, 10, 10]])\n",
    "B = np.array([1, 2, 3])\n",
    "\n",
    "print(X_dot_W)\n",
    "print()\n",
    "print(X_dot_W + B)"
   ]
  },
  {
   "cell_type": "markdown",
   "id": "71b96b4a",
   "metadata": {},
   "source": [
    "위 결과와 같이 순전파의 편향 덧셈은 각각의 데이터(1번째 데이터, 2번째 데이터, ...)에 더진다. 그래서 역전파 때는 각 데이터의 역전파 값이 편향의 원소에 모여야 한다."
   ]
  },
  {
   "cell_type": "code",
   "execution_count": 15,
   "id": "afdf8495",
   "metadata": {},
   "outputs": [
    {
     "name": "stdout",
     "output_type": "stream",
     "text": [
      "[[1 2 3]\n",
      " [4 5 6]]\n",
      "\n",
      "[5 7 9]\n"
     ]
    }
   ],
   "source": [
    "dY = np.array([[1, 2, 3], [4, 5, 6]])\n",
    "print(dY)\n",
    "\n",
    "print()\n",
    "\n",
    "dB = np.sum(dY, axis=0)\n",
    "print(dB)"
   ]
  },
  {
   "cell_type": "markdown",
   "id": "86209682",
   "metadata": {},
   "source": [
    "이 예에서는 데이터가 2개(N = 2)라고 가정한다. 편향의 역전파는 그 두 데이터에 대한 미분을 데이터마다 더해서 구한다. 그래서 np.sum()에서 0번째 축(데이터를 단위로 한축)에 대해서 (axis=0)의 총합을 구한다.<br><BR>\n",
    "Affine 구현은 다음과 같다."
   ]
  },
  {
   "cell_type": "code",
   "execution_count": null,
   "id": "20a9c183",
   "metadata": {},
   "outputs": [],
   "source": [
    "class Affine:\n",
    "    def __init__(self, W, b):\n",
    "        self.W = W\n",
    "        self.b = b\n",
    "        self.x = None\n",
    "        self.dW = None\n",
    "        self.db = None\n",
    "\n",
    "    def forward(self, x):\n",
    "        self.x = x\n",
    "        out = np.dot(x, self.W) + self.b\n",
    "        return out\n",
    "\n",
    "    def backward(self, dout):\n",
    "        dx = np.dot(dout, self.W.T)\n",
    "        self.dW = np.dot(self.x.T, dout)\n",
    "        self.db = np.sum(dout, axis=0)\n",
    "        return dx"
   ]
  },
  {
   "cell_type": "markdown",
   "id": "1ea84832",
   "metadata": {},
   "source": [
    "## 5.6.3 Softmax-with-Loss 계층"
   ]
  },
  {
   "cell_type": "markdown",
   "id": "8a5d54d1",
   "metadata": {},
   "source": []
  }
 ],
 "metadata": {
  "kernelspec": {
   "display_name": "Python 3 (ipykernel)",
   "language": "python",
   "name": "python3"
  },
  "language_info": {
   "codemirror_mode": {
    "name": "ipython",
    "version": 3
   },
   "file_extension": ".py",
   "mimetype": "text/x-python",
   "name": "python",
   "nbconvert_exporter": "python",
   "pygments_lexer": "ipython3",
   "version": "3.11.7"
  }
 },
 "nbformat": 4,
 "nbformat_minor": 5
}
