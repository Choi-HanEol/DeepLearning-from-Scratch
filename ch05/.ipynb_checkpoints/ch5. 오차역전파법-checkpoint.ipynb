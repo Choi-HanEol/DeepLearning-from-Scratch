{
 "cells": [
  {
   "cell_type": "markdown",
   "id": "aa7f4278",
   "metadata": {},
   "source": [
    "# 5.1 계산 그래프\n",
    "## 5.1.1 계산 그래프로 풀다\n",
    "&nbsp;계산 그래프는 계산 과정을 노드와 화살표로 표현한다. 그래프는 복수의 노드와 에지로 표현된다. 다음 문제를 풀어보자<br>\n",
    "**문제:** 현빈 군은 슈퍼에서 사과를 2개, 귤을 3개 샀습니다. 사과 1개에 100원, 귤은 1개 50원입니다. 소비세가 10%일 때 지불 금액을 구하세요.\n",
    " <img src=\"https://img1.daumcdn.net/thumb/R1280x0/?scode=mtistory2&fname=https%3A%2F%2Fblog.kakaocdn.net%2Fdn%2FECAfA%2Fbtq4rI9sNJw%2FK4VP8XFJkJbaONionuOWwk%2Fimg.png\"  width=\"600px\" height=\"600px\"></img><br>\n",
    "그래프에서 계산을 왼쪽에서 오른쪽으로 진행하면 **순전파(forward propagation)**, 반대로 오른쪽에서 왼쪽으로 진행하면 **역전파(backward propagation)**이다.\n",
    "## 5.1.2 국소적 계산\n",
    "&nbsp; 국소적이란 자신과 직접 관계된 작은 범위라는 뜻이다. 국소적 계산은 결국 전체에서 어떤일이 벌어지든 상관없이 자신과 관계된 정보만으로 결과를 출력할 수 있다는 것이다. <br>아래는 국소적 계산의 예이다.\n",
    " <img src=\"https://img1.daumcdn.net/thumb/R1280x0/?scode=mtistory2&fname=https%3A%2F%2Fblog.kakaocdn.net%2Fdn%2FbYYf9U%2Fbtq4rdaMMiq%2FSOzYnRR5Ph5vk3J3JSYk31%2Fimg.png\"  width=\"600px\" height=\"600px\"></img><br>\n",
    "각 노드에서의 계산은 국소적 계산이다. 사과와 그 외의 물품 값을 더하는 계산(4000 + 200 -> 4200)은 4000이라는 숫자가 어떻게 계산되었느냐와는 상관없이, 단지 두 숫자를 더하면 된다. 각 노드는 자신과 관련한 계산 외에는 신경쓸 것이 없다.<br><br>\n",
    "&nbsp;국소적 계산은 복잡한 계산을 단순한 계산으로 쪼개어 다른 단계와는 독립적으로 계산을 수행한다.\n",
    "\n",
    "# 5.2 연쇄법칙\n",
    "## 5.2.1 계산 그래프의 역전파\n",
    "<img src=\"https://img1.daumcdn.net/thumb/R1280x0/?scode=mtistory2&fname=https%3A%2F%2Fblog.kakaocdn.net%2Fdn%2Fpgceg%2Fbtq4p4yS538%2FZMY0o0vYqltqG0eMBhnF9K%2Fimg.png\"  width=\"400px\" height=\"400px\"></img><br>\n",
    "&nbsp;역전파의 계산 절차는 신호 E에 노드의 국소적 미분을 곱한 후 다음 노드로 전달하는 것이다.\n",
    "## 5.2.2 연쇄법칙이란?\n",
    "&nbsp;**합성 함수**란 여러 함수로 구성된 함수이다. 예를 들어 z = (x + y)^2 라는 식은 <br>z = t^2 <br>t = x + y<br>로 두 개의 식으로 구성된다.<br> &nbsp;연쇄법칙은 합성 함수의 미분에 대한 성질이다.<br>**합성 함수의 미분은 합성 함수를 구성하는 각 함수의 미분의 곱으로 나타낼 수 있다.**\n",
    "<img src=\"https://img1.daumcdn.net/thumb/R1280x0/?scode=mtistory2&fname=https%3A%2F%2Fblog.kakaocdn.net%2Fdn%2FcX497u%2Fbtq4oQgMXUI%2FKCBpSZXHF3iTWkXEUMy240%2Fimg.jpg\"  width=\"300px\" height=\"300px\"></img><br>\n",
    "## 5.2.3 연쇄법칙과 계산 그래프\n",
    "<img src=\"https://img1.daumcdn.net/thumb/R1280x0/?scode=mtistory2&fname=https%3A%2F%2Fblog.kakaocdn.net%2Fdn%2Fvt0V9%2Fbtq4wv2xPgL%2F9yiFA73c8yRPDf06jNbaSK%2Fimg.png\"  width=\"900px\" height=\"900px\"></img><br>\n",
    "# 5.3 역전파\n",
    "## 5.3.1 덧셈 노드의 역전파 \n",
    "&nbsp;z = x + y라는 식을 대상으로 역전파를 진행<br><br>\n",
    "dz/dx = 1<br>\n",
    "dz/dy = 1<br>\n",
    "<img src=\"https://img1.daumcdn.net/thumb/R1280x0/?scode=mtistory2&fname=https%3A%2F%2Fblog.kakaocdn.net%2Fdn%2FALdF6%2Fbtq4o7bw6t0%2FmKFdTtk0uSkkl9bkt9aosk%2Fimg.png\"  width=\"700px\" height=\"700px\"></img><br>\n",
    "&nbsp;상류에서 전해진 미분 값을 dL/dz이라 했는데 이는 아래 그림과 같이 최종적으로 L이라는 값을 출력하는 큰 계산 그래프를 가정하기 때문이다. z = x + y 계산은 그 큰 계산 그래프의 중간 어딘가에 존재하고 상류로부터 dL/dz값이 전해진 것이다. <br>\n",
    "dL/dz와 1(dz/dx or dz/dy)을 곱해서 하류로 넘겨준다.\n",
    "<img src=\"https://img1.daumcdn.net/thumb/R1280x0/?scode=mtistory2&fname=https%3A%2F%2Fblog.kakaocdn.net%2Fdn%2FQHqxl%2Fbtq4wv9jSuZ%2FmKpR0h8BJCknEpRkDKT600%2Fimg.png\"  width=\"700px\" height=\"700px\"></img><br>\n",
    "## 5.3.2 곱셈 노드의 역전파\n",
    "&nbsp;z = xy라는 식을 대상으로 역전파 진행 <br><br>\n",
    "dz/dx = y<br>\n",
    "dz/dy = x<br>\n",
    "<img src=\"https://img1.daumcdn.net/thumb/R1280x0/?scode=mtistory2&fname=https%3A%2F%2Fblog.kakaocdn.net%2Fdn%2FbPDIj3%2Fbtq4qET11St%2FaPTgX1y6Dw4Wpz8qiJcm1K%2Fimg.png\"  width=\"700px\" \n",
    "height=\"700px\"></img><br>     \n",
    "곱셈 노드의 역전파는 상류의 값에 순전파 때의 입력 신호들을 '서로 바꾼 값'을 곱해서 하류로 보낸다.\n",
    "dL/dz와 y or x (dz/dx or dz/dy)을 곱해서 하류로 넘겨준다.\n",
    "# 5.4 단순한 계층 구현하기\n",
    "&nbsp;곱셈 노드를 'MulLayer', 덧셈 노드를 'AddLayer'라는 이름으로 구현\n",
    "## 5.4.1 곱셈 계층\n",
    "&nbsp;모든 계층은 forward()와 backward()라는 공통의 메서드(인터페이스)를 갖도록 구현할 것이다. forward()는 순전파, backward()는 역전파를 처리한다. "
   ]
  },
  {
   "cell_type": "code",
   "execution_count": 2,
   "id": "eebfe9e7",
   "metadata": {},
   "outputs": [],
   "source": [
    "class MulLayer:\n",
    "    def __init__(self):\n",
    "        self.x = None\n",
    "        self.y = None\n",
    "        \n",
    "    def forward(self, x, y):\n",
    "        self.x = x\n",
    "        self.y = y\n",
    "        out = x * y\n",
    "        \n",
    "        return out\n",
    "    \n",
    "    def backward(self, dout):\n",
    "        dx = dout * self.y #x와 y를 바꾼다\n",
    "        dy = dout * self.x\n",
    "        \n",
    "        return dx, dy"
   ]
  },
  {
   "cell_type": "markdown",
   "id": "f56e0cc0",
   "metadata": {},
   "source": [
    "곱셈 노드에서의 역전파는 상류에서 넘어온 미분(dout)에 순전파 때의 값을 '서로 바꿔' 곱한 후 하류로 보낸다."
   ]
  },
  {
   "cell_type": "code",
   "execution_count": 3,
   "id": "ef479b47",
   "metadata": {},
   "outputs": [
    {
     "name": "stdout",
     "output_type": "stream",
     "text": [
      "220.00000000000003\n"
     ]
    }
   ],
   "source": [
    "apple = 100\n",
    "apple_num = 2\n",
    "tax = 1.1\n",
    "\n",
    "#계층들\n",
    "mul_apple_layer = MulLayer()\n",
    "mul_tax_layer = MulLayer()\n",
    "\n",
    "#순전파 \n",
    "apple_price = mul_apple_layer.forward(apple, apple_num)\n",
    "price = mul_tax_layer.forward(apple_price, tax)\n",
    "\n",
    "print(price)"
   ]
  },
  {
   "cell_type": "code",
   "execution_count": 4,
   "id": "8bcc108e",
   "metadata": {},
   "outputs": [
    {
     "name": "stdout",
     "output_type": "stream",
     "text": [
      "2.2 110.00000000000001 200\n"
     ]
    }
   ],
   "source": [
    "#역전파\n",
    "dprice = 1\n",
    "dapple_price, dtax = mul_tax_layer.backward(dprice)\n",
    "dapple, dapple_num = mul_apple_layer.backward(dapple_price)\n",
    "\n",
    "print(dapple, dapple_num, dtax)"
   ]
  },
  {
   "cell_type": "markdown",
   "id": "d90ceaef",
   "metadata": {},
   "source": [
    "## 5.4.2 덧셈 계층"
   ]
  },
  {
   "cell_type": "code",
   "execution_count": 5,
   "id": "955bbdfa",
   "metadata": {},
   "outputs": [],
   "source": [
    "class AddLayer:\n",
    "    def __init__(self):\n",
    "        pass\n",
    "        \n",
    "    def forward(self, x, y):\n",
    "        out = x + y\n",
    "        return out\n",
    "\n",
    "    def backward(self, dout):\n",
    "        dx = dout * 1\n",
    "        dy = dout * 1\n",
    "        return dx, dy"
   ]
  },
  {
   "cell_type": "code",
   "execution_count": null,
   "id": "dcefcb42-35b9-4ab7-a2bc-afe3de11bba6",
   "metadata": {},
   "outputs": [],
   "source": []
  }
 ],
 "metadata": {
  "kernelspec": {
   "display_name": "Python 3 (ipykernel)",
   "language": "python",
   "name": "python3"
  },
  "language_info": {
   "codemirror_mode": {
    "name": "ipython",
    "version": 3
   },
   "file_extension": ".py",
   "mimetype": "text/x-python",
   "name": "python",
   "nbconvert_exporter": "python",
   "pygments_lexer": "ipython3",
   "version": "3.11.7"
  }
 },
 "nbformat": 4,
 "nbformat_minor": 5
}
